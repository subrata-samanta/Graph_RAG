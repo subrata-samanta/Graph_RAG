{
 "cells": [
  {
   "cell_type": "code",
   "execution_count": 1,
   "id": "fca1216b",
   "metadata": {},
   "outputs": [
    {
     "name": "stderr",
     "output_type": "stream",
     "text": [
      "c:\\Users\\Subrata Samanta\\miniconda3\\envs\\genai\\Lib\\site-packages\\pinecone\\data\\index.py:1: TqdmWarning: IProgress not found. Please update jupyter and ipywidgets. See https://ipywidgets.readthedocs.io/en/stable/user_install.html\n",
      "  from tqdm.autonotebook import tqdm\n"
     ]
    }
   ],
   "source": [
    "from dotenv import load_dotenv\n",
    "import os\n",
    "from langchain_neo4j import Neo4jGraph\n",
    "\n",
    "from langchain_core.runnables import (\n",
    "    RunnableBranch,\n",
    "    RunnableLambda,\n",
    "    RunnableParallel,\n",
    "    RunnablePassthrough,\n",
    ")\n",
    "from langchain_core.prompts import ChatPromptTemplate\n",
    "from langchain_core.prompts.prompt import PromptTemplate\n",
    "from pydantic import BaseModel, Field\n",
    "# from langchain_core.pydantic_v1 import BaseModel, Field\n",
    "from typing import Tuple, List\n",
    "from langchain_core.messages import AIMessage, HumanMessage\n",
    "from langchain_core.output_parsers import StrOutputParser\n",
    "from langchain_community.document_loaders import WikipediaLoader\n",
    "from langchain.text_splitter import TokenTextSplitter\n",
    "from langchain_openai import ChatOpenAI\n",
    "from langchain_experimental.graph_transformers import LLMGraphTransformer\n",
    "\n",
    "from langchain_neo4j import Neo4jVector\n",
    "# from langchain_openai import OpenAIEmbeddings\n",
    "from langchain_neo4j.vectorstores.neo4j_vector import remove_lucene_chars"
   ]
  },
  {
   "cell_type": "code",
   "execution_count": 41,
   "id": "e192215e",
   "metadata": {},
   "outputs": [
    {
     "name": "stdout",
     "output_type": "stream",
     "text": [
      "content='<think>\\nOkay, so I need to write a poem about time travel. Hmm, where do I start? Time travel is such a vast and imaginative topic. I guess I should think about the different aspects of time travel that could be poetic. Maybe the concept of moving through time, the emotions involved, the possibilities, and the consequences.\\n\\nFirst, I should consider the structure of the poem. Do I want it to be free verse or follow a specific rhyme scheme? Rhyming might give it a more traditional feel, which could be nice. Maybe something with a consistent meter to give it a rhythmic flow, kind of like the passage of time itself.\\n\\nImagery is important in poetry, so I should think about what images evoke time travel. Clocks, hourglasses, maybe a time machine. But I don\\'t want it to be too cliché. Perhaps more abstract imagery, like shadows, echoes, or the flow of a river, which can symbolize time.\\n\\nEmotions are key too. Time travel can bring up feelings of nostalgia, wonder, maybe even fear or regret. I should capture that mix of emotions. The excitement of exploring the past or future, but also the longing or the danger of altering events.\\n\\nI should also think about the themes. Maybe the idea that time is a journey, or that it\\'s something that can be manipulated. The consequences of changing the past or knowing the future. The poem could touch on the idea of being lost in time or finding oneself through time travel.\\n\\nLet me brainstorm some lines. Maybe start with the idea of stepping into time, like \"Step into the shadows where the past awaits.\" That gives a sense of moving into another time. Then, \"where echoes of memories turn to debates.\" That could show the uncertainty or the questioning of past events.\\n\\nNext, I want to convey the movement through time, so \"In the river of time, where currents collide,\" uses the river as a metaphor for time flowing. \"I drift on the tides, where moments divide.\" This shows the journey and how moments separate or come together.\\n\\nI should include the idea of choice and consequence. \"Each choice a ripple, each step a design,\" suggests that every decision affects the timeline. \"In the fabric of time, where threads intertwine.\" This ties into the idea of a tapestry or fabric of time, with each thread representing a possibility.\\n\\nNow, moving into the future, \"I chase the horizon, where dawn breaks in night,\" gives a sense of moving forward into the unknown. \"And stars in the morning sing songs of delight.\" This adds a touch of wonder and beauty.\\n\\nLooking back, \"Yet in the rearview, where ghosts take their stand,\" brings in the past and the lingering presence of what\\'s been left behind. \"I see the footprints of a forgotten land.\" This could symbolize lost opportunities or forgotten memories.\\n\\nI want to touch on the personal impact of time travel, \"A traveler lost in the labyrinth of years,\" shows the confusion and disorientation. \"With the weight of forever through laughter and tears.\" This highlights the emotional burden of experiencing so much.\\n\\nThe idea of being a spectator is important too, \"A spectator of eras, a witness of birth,\" shows the role of the time traveler as an observer. \"In the endless dance of life, death, and earth.\" This ties into the cycle of life and the natural order.\\n\\nI should include the internal conflict of wanting to change things but knowing the risks, \"I yearn to rewrite the chapters unsealed,\" expresses the desire to alter the past. \"But the ink of tomorrow is yet unrevealed.\" This shows the uncertainty and the danger of changing what\\'s to come.\\n\\nThe passage of time itself is a theme, \"For time is a thief in the dead of the night,\" personifies time as something that steals moments. \"Stealing moments, a thief in the light.\" This emphasizes how time takes away without regard.\\n\\nThe journey of time travel is a spiral, \"It twists in a spiral, a maze without end,\" suggests the complexity and endlessness of time. \"Where the past and the future are friends.\" This could imply that past and future are interconnected.\\n\\nI want to convey the idea that time is both fragile and powerful, \"A delicate whisper, a force beyond might,\" shows the duality of time\\'s nature. \"A journey through time is a dance with the light.\" This ties it all together as a beautiful yet powerful experience.\\n\\nFinally, wrapping it up with the realization that time is a gift, \"So let us cherish each second, each breath we take,\" encourages appreciation for the present. \"For in the grand tapestry, time is the thread we weave and we break.\" This emphasizes the importance of each moment and how we shape time through our actions.\\n\\nI think that covers a good range of emotions and themes related to time travel. Now, I\\'ll put it all together, making sure the rhyme scheme is consistent and the flow is smooth. I\\'ll check each stanza to ensure they connect well and convey the intended feelings and ideas.\\n</think>\\n\\n**Time\\'s Journey**\\n\\nStep into the shadows where the past awaits,  \\nWhere echoes of memories turn to debates.  \\nIn the river of time, where currents collide,  \\nI drift on the tides, where moments divide.  \\n\\nEach choice a ripple, each step a design,  \\nIn the fabric of time, where threads intertwine.  \\nI chase the horizon, where dawn breaks in night,  \\nAnd stars in the morning sing songs of delight.  \\n\\nYet in the rearview, where ghosts take their stand,  \\nI see the footprints of a forgotten land.  \\nA traveler lost in the labyrinth of years,  \\nWith the weight of forever through laughter and tears.  \\n\\nA spectator of eras, a witness of birth,  \\nIn the endless dance of life, death, and earth.  \\nI yearn to rewrite the chapters unsealed,  \\nBut the ink of tomorrow is yet unrevealed.  \\n\\nFor time is a thief in the dead of the night,  \\nStealing moments, a thief in the light.  \\nIt twists in a spiral, a maze without end,  \\nWhere the past and the future are friends.  \\n\\nA delicate whisper, a force beyond might,  \\nA journey through time is a dance with the light.  \\nSo let us cherish each second, each breath we take,  \\nFor in the grand tapestry, time is the thread we weave and we break.' additional_kwargs={} response_metadata={'token_usage': {'completion_tokens': 885, 'prompt_tokens': 449, 'total_tokens': 1334, 'completion_time': 3.218181818, 'prompt_time': 1.530565991, 'queue_time': -1.475278594, 'total_time': 4.748747809}, 'model_name': 'deepseek-r1-distill-llama-70b', 'system_fingerprint': 'fp_454c494f52', 'finish_reason': 'stop', 'logprobs': None} id='run-3ac60b2a-f822-48be-b213-3c723a452651-0' usage_metadata={'input_tokens': 449, 'output_tokens': 885, 'total_tokens': 1334}\n"
     ]
    }
   ],
   "source": [
    "from langchain_groq import ChatGroq\n",
    "\n",
    "load_dotenv()\n",
    "chat = ChatGroq(temperature=0, model_name=\"deepseek-r1-distill-llama-70b\")\n",
    "\n",
    "\n",
    "\n",
    "\n",
    "\n",
    "print(chat.invoke(\"Write a poem about time travel.\"))"
   ]
  },
  {
   "cell_type": "code",
   "execution_count": 29,
   "id": "762b816e",
   "metadata": {},
   "outputs": [
    {
     "name": "stdout",
     "output_type": "stream",
     "text": [
      "Through veils of seconds, centuries unwind,  \n",
      "A whispered thread in the fabric of mind.  \n",
      "Steps across eras, both near and far,  \n",
      "A dance with shadows of what we are.\n",
      "\n",
      "Clocks that tick in cosmic rhyme,  \n",
      "Unraveling the secrets of time.  \n",
      "Forward to futures yet unseen,  \n",
      "Backward to moments long between.\n",
      "\n",
      "A leap through ages, swift and bright,  \n",
      "Chasing dawns into endless night.  \n",
      "History’s echo, a fleeting ghost,  \n",
      "In the traveler’s heart, a longing host.\n",
      "\n",
      "Bound by neither chain nor gate,  \n",
      "Time’s river bends, it’s never too late.  \n",
      "To glimpse the past, or future’s glow,  \n",
      "A voyage where all things flow.\n"
     ]
    }
   ],
   "source": [
    "from euriai import EuriaiLangChainLLM\n",
    "\n",
    "chat = EuriaiLangChainLLM(\n",
    "    api_key=os.getenv(\"OPENAI_API_KEY\"),\n",
    "    model=\"gpt-4.1-nano\",\n",
    "    temperature=0.7,\n",
    "    max_tokens=30000\n",
    ")\n",
    "print(chat.invoke(\"Write a poem about time travel.\"))"
   ]
  },
  {
   "cell_type": "code",
   "execution_count": 45,
   "id": "804a4bbe",
   "metadata": {},
   "outputs": [],
   "source": [
    "\n",
    "AURA_INSTANCENAME = os.environ[\"AURA_INSTANCENAME\"]\n",
    "NEO4J_URI = os.environ[\"NEO4J_URI\"]\n",
    "NEO4J_USERNAME = os.environ[\"NEO4J_USERNAME\"]\n",
    "NEO4J_PASSWORD = os.environ[\"NEO4J_PASSWORD\"]\n",
    "AUTH = (NEO4J_USERNAME, NEO4J_PASSWORD)\n",
    "\n",
    "OPENAI_API_KEY = os.getenv(\"OPENAI_API_KEY\")\n",
    "# OPENAI_ENDPOINT = os.getenv(\"OPENAI_ENDPOINT\")"
   ]
  },
  {
   "cell_type": "code",
   "execution_count": 46,
   "id": "a731f805",
   "metadata": {},
   "outputs": [],
   "source": [
    "kg = Neo4jGraph(\n",
    "    url=NEO4J_URI,\n",
    "    username=NEO4J_USERNAME,\n",
    "    password=NEO4J_PASSWORD,\n",
    ") #database=NEO4J_DATABASE,\n"
   ]
  },
  {
   "cell_type": "code",
   "execution_count": 17,
   "id": "7eb21f75",
   "metadata": {},
   "outputs": [],
   "source": [
    "# # read the wikipedia page for the Roman Empire\n",
    "from langchain_community.document_loaders import PyPDFLoader\n",
    "\n",
    "raw_documents = PyPDFLoader(\"NASDAQ_AAPL_2024.pdf\").load()\n",
    "\n"
   ]
  },
  {
   "cell_type": "code",
   "execution_count": null,
   "id": "fe4b4b9e",
   "metadata": {},
   "outputs": [
    {
     "name": "stdout",
     "output_type": "stream",
     "text": [
      "448\n"
     ]
    }
   ],
   "source": [
    "from langchain.text_splitter import RecursiveCharacterTextSplitter\n",
    "\n",
    "# # # # Define chunking strategy\n",
    "text_splitter = RecursiveCharacterTextSplitter(chunk_size=1200, chunk_overlap=200)\n",
    "documents = text_splitter.split_documents(raw_documents)\n",
    "print(len(documents))\n",
    "\n",
    "\n",
    "# graph_documents = llm_transformer.convert_to_graph_documents(documents)"
   ]
  },
  {
   "cell_type": "code",
   "execution_count": 55,
   "id": "f34aef56",
   "metadata": {},
   "outputs": [
    {
     "name": "stdout",
     "output_type": "stream",
     "text": [
      "UNITED STATES\n",
      "SECURITIES AND EXCHANGE COMMISSION\n",
      "Washington, D.C. 20549\n",
      "FORM 10-K\n",
      "(Mark One)\n",
      "☒  ANNUAL REPORT PURSUANT TO SECTION 13 OR 15(d) OF THE SECURITIES EXCHANGE ACT OF 1934\n",
      "For the fiscal year ended September 28, 2024\n",
      "or\n",
      "☐  TRANSITION REPORT PURSUANT TO SECTION 13 OR 15(d) OF THE SECURITIES EXCHANGE ACT OF 1934\n",
      "For the transition period from              to             .\n",
      "Commission File Number: 001-36743\n",
      "Apple Inc.\n",
      "(Exact name of Registrant as specified in its charter)\n",
      "California 94-2404110\n",
      "(State or other jurisdictionof incorporation or organization) (I.R.S. Employer Identification No.)\n",
      "One Apple Park Way\n",
      "Cupertino, California 95014\n",
      "(Address of principal executive offices) (Zip Code)\n",
      "(408) 996-1010\n",
      "(Registrant’s telephone number, including area code)\n",
      "Securities registered pursuant to Section 12(b) of the Act:\n",
      "Title of each class Trading symbol(s) Name of each exchange on which registered\n",
      "Common Stock, $0.00001 par value per shareAAPL The Nasdaq Stock Market LLC\n",
      "0.000% Notes due 2025 — The Nasdaq Stock Market LLC\n",
      "0.875% Notes due 2025 — The Nasdaq Stock Market LLC\n",
      "1.625% Notes due 2026 — The Nasdaq Stock Market LLC\n",
      "2.000% Notes due 2027 — The Nasdaq Stock Market LLC\n",
      "======================================================================================================================================================\n",
      "0.875% Notes due 2025 — The Nasdaq Stock Market LLC\n",
      "1.625% Notes due 2026 — The Nasdaq Stock Market LLC\n",
      "2.000% Notes due 2027 — The Nasdaq Stock Market LLC\n",
      "1.375% Notes due 2029 — The Nasdaq Stock Market LLC\n",
      "3.050% Notes due 2029 — The Nasdaq Stock Market LLC\n",
      "0.500% Notes due 2031 — The Nasdaq Stock Market LLC\n",
      "3.600% Notes due 2042 — The Nasdaq Stock Market LLC\n",
      "Securities registered pursuant to Section 12(g) of the Act: None\n",
      "Indicate by check mark if the Registrant is a well-known seasoned issuer, as defined in Rule 405 of the Securities Act.\n",
      "Yes  ☒      No  ☐ \n",
      "Indicate by check mark if the Registrant is not required to file reports pursuant to Section 13 or Section 15(d) of the Act.\n",
      "Yes  ☐      No  ☒ \n",
      "Indicate by check mark whether the Registrant (1) has filed all reports required to be filed by Section 13 or 15(d) of the Securities Exchange Act of 1934 during the preceding 12\n",
      "months (or for such shorter period that the Registrant was required to file such reports), and (2) has been subject to such filing requirements for the past 90 days.\n",
      "Yes  ☒      No  ☐\n",
      "======================================================================================================================================================\n",
      "months (or for such shorter period that the Registrant was required to file such reports), and (2) has been subject to such filing requirements for the past 90 days.\n",
      "Yes  ☒      No  ☐ \n",
      "Indicate by check mark whether the Registrant has submitted electronically every Interactive Data File required to be submitted pursuant to Rule 405 of Regulation S-T (§232.405 ofthis chapter) during the preceding 12 months (or for such shorter period that the Registrant was required to submit such files).\n",
      "Yes  ☒      No  ☐\n",
      "======================================================================================================================================================\n",
      "Indicate by check mark whether the Registrant is a large accelerated filer, an accelerated filer, a non-accelerated filer, a smaller reporting company, or an emerging growth company.\n",
      "See the definitions of “large accelerated filer,” “accelerated filer,” “smaller reporting company,” and “emerging growth company” in Rule 12b-2 of the Exchange Act.\n",
      "Large accelerated filer ☒ Accelerated filer ☐ \n",
      "Non-accelerated filer ☐ Smaller reporting company ☐ \n",
      "Emerging growth company ☐ \n",
      "If an emerging growth company, indicate by check mark if the Registrant has elected not to use the extended transition period for complying with any new or revised financial\n",
      "accounting standards provided pursuant to Section 13(a) of the Exchange Act. ☐ \n",
      "Indicate by check mark whether the Registrant has filed a report on and attestation to its management’s assessment of the effectiveness of its internal control over financial reporting\n",
      "under Section 404(b) of the Sarbanes-Oxley Act (15 U.S.C. 7262(b)) by the registered public accounting firm that prepared or issued its audit report. ☒\n",
      "======================================================================================================================================================\n",
      "under Section 404(b) of the Sarbanes-Oxley Act (15 U.S.C. 7262(b)) by the registered public accounting firm that prepared or issued its audit report. ☒ \n",
      "If securities are registered pursuant to Section 12(b) of the Act, indicate by check mark whether the financial statements of the registrant included in the filing reflect the correction of\n",
      "an error to previously issued financial statements. ☐ \n",
      "Indicate by check mark whether any of those error corrections are restatements that required a recovery analysis of incentive-based compensation received by any of the registrant’s\n",
      "executive officers during the relevant recovery period pursuant to §240.10D-1(b). ☐ \n",
      "Indicate by check mark whether the Registrant is a shell company (as defined in Rule 12b-2 of the Act).\n",
      "Yes  ☐      No  ☒ \n",
      "The aggregate market value of the voting and non-voting stock held by non-affiliates of the Registrant, as of March 29, 2024, the last business day of the Registrant’s most recently\n",
      "======================================================================================================================================================\n",
      "The aggregate market value of the voting and non-voting stock held by non-affiliates of the Registrant, as of March 29, 2024, the last business day of the Registrant’s most recently\n",
      "completed second fiscal quarter, was approximately $2,628,553,000,000. Solely for purposes of this disclosure, shares of common stock held by executive officers and directors ofthe Registrant as of such date have been excluded because such persons may be deemed to be affiliates. This determination of executive officers and directors as affiliates is not\n",
      "necessarily a conclusive determination for any other purposes.\n",
      "15,115,823,000 shares of common stock were issued and outstanding as of October 18, 2024.\n",
      "DOCUMENTS INCORPORATED BY REFERENCE\n",
      "Portions of the Registrant’s definitive proxy statement relating to its 2025 annual meeting of shareholders are incorporated by reference into Part III of this Annual Report on Form\n",
      "10-K where indicated. The Registrant’s definitive proxy statement will be filed with the U.S. Securities and Exchange Commission within 120 days after the end of the fiscal year to\n",
      "which this report relates.\n",
      "======================================================================================================================================================\n",
      "Apple Inc.\n",
      "Form 10-K\n",
      "For the Fiscal Year Ended September 28, 2024\n",
      "TABLE OF CONTENTS\n",
      "Page\n",
      "Part I\n",
      "Item 1. Business 1\n",
      "Item 1A. Risk Factors 5\n",
      "Item 1B. Unresolved Staff Comments 17\n",
      "Item 1C. Cybersecurity 17\n",
      "Item 2. Properties 18\n",
      "Item 3. Legal Proceedings 18\n",
      "Item 4. Mine Safety Disclosures 18\n",
      "Part II\n",
      "Item 5. Market for Registrant’s Common Equity, Related Stockholder Matters and Issuer Purchases of Equity Securities19\n",
      "Item 6. [Reserved] 20\n",
      "Item 7. Management’s Discussion and Analysis of Financial Condition and Results of Operations 21\n",
      "Item 7A. Quantitative and Qualitative Disclosures About Market Risk 27\n",
      "Item 8. Financial Statements and Supplementary Data 28\n",
      "Item 9. Changes in and Disagreements with Accountants on Accounting and Financial Disclosure 51\n",
      "Item 9A. Controls and Procedures 51\n",
      "Item 9B. Other Information 52\n",
      "Item 9C. Disclosure Regarding Foreign Jurisdictions that Prevent Inspections 52\n",
      "Part III\n",
      "Item 10. Directors, Executive Officers and Corporate Governance 52\n",
      "Item 11. Executive Compensation 52\n",
      "Item 12. Security Ownership of Certain Beneficial Owners and Management and Related Stockholder Matters52\n",
      "======================================================================================================================================================\n",
      "Item 11. Executive Compensation 52\n",
      "Item 12. Security Ownership of Certain Beneficial Owners and Management and Related Stockholder Matters52\n",
      "Item 13. Certain Relationships and Related Transactions, and Director Independence 52\n",
      "Item 14. Principal Accountant Fees and Services 52\n",
      "Part IV\n",
      "Item 15. Exhibit and Financial Statement Schedules 53\n",
      "Item 16. Form 10-K Summary 56\n",
      "======================================================================================================================================================\n",
      "This Annual Report on Form 10-K (“Form 10-K”) contains forward-looking statements, within the meaning of the Private Securities Litigation Reform Act of 1995,\n",
      "that involve risks and uncertainties. Many of the forward-looking statements are located in Part I, Item 1 of this Form 10-K under the heading “Business” and PartII, Item 7 of this Form 10-K under the heading “Management’s Discussion and Analysis of Financial Condition and Results of Operations.” Forward-lookingstatements provide current expectations of future events based on certain assumptions and include any statement that does not directly relate to any historical\n",
      "or current fact. For example, statements in this Form 10-K regarding the potential future impact of macroeconomic conditions on the Company’s business andresults of operations are forward-looking statements. Forward-looking statements can also be identified by words such as “future,” “anticipates,” “believes,”\n",
      "======================================================================================================================================================\n",
      "“estimates,” “expects,” “intends,” “plans,” “predicts,” “will,” “would,” “could,” “can,” “may,” and similar terms. Forward-looking statements are not guarantees offuture performance and the Company’s actual results may differ significantly from the results discussed in the forward-looking statements. Factors that mightcause such differences include, but are not limited to, those discussed in Part I, Item 1A of this Form 10-K under the heading “Risk Factors.” The Company\n",
      "assumes no obligation to revise or update any forward-looking statements for any reason, except as required by law.\n",
      "Unless otherwise stated, all information presented herein is based on the Company’s fiscal calendar, and references to particular years, quarters, months or\n",
      "periods refer to the Company’s fiscal years ended in September and the associated quarters, months and periods of those fiscal years. Each of the terms the“Company” and “Apple” as used herein refers collectively to Apple Inc. and its wholly owned subsidiaries, unless otherwise stated.\n",
      "PART I\n",
      "Item 1.    Business\n",
      "Company Background\n",
      "======================================================================================================================================================\n"
     ]
    }
   ],
   "source": [
    "for doc in documents[:10]:\n",
    "    print(doc.page_content)\n",
    "    print(\"===\"*50)"
   ]
  },
  {
   "cell_type": "code",
   "execution_count": 43,
   "id": "ce2fbf6a",
   "metadata": {},
   "outputs": [
    {
     "name": "stderr",
     "output_type": "stream",
     "text": [
      "Processing Documents: 100%|██████████| 10/10 [03:37<00:00, 21.72s/it]\n"
     ]
    }
   ],
   "source": [
    "from concurrent.futures import ThreadPoolExecutor\n",
    "from tqdm import tqdm\n",
    "\n",
    "llm_transformer = LLMGraphTransformer(llm=chat)\n",
    "\n",
    "# Function to process a single document\n",
    "def process_document(doc):\n",
    "    return llm_transformer.convert_to_graph_documents([doc])\n",
    "\n",
    "\n",
    "graph_documents = []\n",
    "for doc in tqdm(documents[:10], desc=\"Processing Documents\"):\n",
    "    result = process_document(doc)\n",
    "    graph_documents.extend(result)\n",
    "\n",
    "# # Use ThreadPoolExecutor to process documents in parallel with progress tracking\n",
    "# graph_documents = []\n",
    "# with ThreadPoolExecutor() as executor:\n",
    "#     with tqdm(total=len(documents), desc=\"Processing Documents\") as pbar:\n",
    "#         for i in range(0, len(documents), 1):  # Batch size of 10\n",
    "#             batch = documents[i:i+10]\n",
    "#             futures = {executor.submit(process_document, doc): doc for doc in batch}\n",
    "#             for future in futures:\n",
    "#                 result = future.result()\n",
    "#                 graph_documents.extend(result)\n",
    "#                 pbar.update(1)\n",
    "\n",
    "# # Flatten the list of results\n",
    "# graph_documents = [item for sublist in graph_documents for item in sublist]"
   ]
  },
  {
   "cell_type": "code",
   "execution_count": 47,
   "id": "3e9ef38b",
   "metadata": {},
   "outputs": [
    {
     "data": {
      "text/plain": [
       "[GraphDocument(nodes=[Node(id='Form 10-K', type='Document', properties={}), Node(id='Apple Inc.', type='Company', properties={}), Node(id='One Apple Park Way, Cupertino, California 95014', type='Address', properties={}), Node(id='California', type='State', properties={}), Node(id='94-2404110', type='Ein', properties={}), Node(id='(408) 996-1010', type='Phone number', properties={}), Node(id='Common Stock, $0.00001 Par Value Per Share', type='Security', properties={}), Node(id='Aapl', type='Ticker symbol', properties={}), Node(id='The Nasdaq Stock Market Llc', type='Exchange', properties={}), Node(id='0.000% Notes Due 2025', type='Bond', properties={}), Node(id='0.875% Notes Due 2025', type='Bond', properties={}), Node(id='1.625% Notes Due 2026', type='Bond', properties={}), Node(id='2.000% Notes Due 2027', type='Bond', properties={})], relationships=[Relationship(source=Node(id='Apple Inc.', type='Company', properties={}), target=Node(id='Form 10-K', type='Document', properties={}), type='SUBMITTED', properties={}), Relationship(source=Node(id='Apple Inc.', type='Company', properties={}), target=Node(id='One Apple Park Way, Cupertino, California 95014', type='Address', properties={}), type='HEADQUARTERED_AT', properties={}), Relationship(source=Node(id='Apple Inc.', type='Company', properties={}), target=Node(id='California', type='State', properties={}), type='INCORPORATED_IN', properties={}), Relationship(source=Node(id='Apple Inc.', type='Company', properties={}), target=Node(id='94-2404110', type='Ein', properties={}), type='HAS_EIN', properties={}), Relationship(source=Node(id='Apple Inc.', type='Company', properties={}), target=Node(id='(408) 996-1010', type='Phone number', properties={}), type='CONTACT', properties={}), Relationship(source=Node(id='Common Stock, $0.00001 Par Value Per Share', type='Security', properties={}), target=Node(id='Apple Inc.', type='Company', properties={}), type='ISSUED_BY', properties={}), Relationship(source=Node(id='Common Stock, $0.00001 Par Value Per Share', type='Security', properties={}), target=Node(id='Aapl', type='Ticker symbol', properties={}), type='TRADED_UNDER', properties={}), Relationship(source=Node(id='Common Stock, $0.00001 Par Value Per Share', type='Security', properties={}), target=Node(id='The Nasdaq Stock Market Llc', type='Exchange', properties={}), type='LISTED_ON', properties={}), Relationship(source=Node(id='0.000% Notes Due 2025', type='Bond', properties={}), target=Node(id='Apple Inc.', type='Company', properties={}), type='ISSUED_BY', properties={}), Relationship(source=Node(id='0.000% Notes Due 2025', type='Bond', properties={}), target=Node(id='The Nasdaq Stock Market Llc', type='Exchange', properties={}), type='LISTED_ON', properties={}), Relationship(source=Node(id='0.875% Notes Due 2025', type='Bond', properties={}), target=Node(id='Apple Inc.', type='Company', properties={}), type='ISSUED_BY', properties={}), Relationship(source=Node(id='0.875% Notes Due 2025', type='Bond', properties={}), target=Node(id='The Nasdaq Stock Market Llc', type='Exchange', properties={}), type='LISTED_ON', properties={}), Relationship(source=Node(id='1.625% Notes Due 2026', type='Bond', properties={}), target=Node(id='Apple Inc.', type='Company', properties={}), type='ISSUED_BY', properties={}), Relationship(source=Node(id='1.625% Notes Due 2026', type='Bond', properties={}), target=Node(id='The Nasdaq Stock Market Llc', type='Exchange', properties={}), type='LISTED_ON', properties={}), Relationship(source=Node(id='2.000% Notes Due 2027', type='Bond', properties={}), target=Node(id='Apple Inc.', type='Company', properties={}), type='ISSUED_BY', properties={}), Relationship(source=Node(id='2.000% Notes Due 2027', type='Bond', properties={}), target=Node(id='The Nasdaq Stock Market Llc', type='Exchange', properties={}), type='LISTED_ON', properties={})], source=Document(metadata={'producer': 'EDGRpdf Service w/ EO.Pdf 22.0.40.0', 'creator': 'EDGAR Filing HTML Converter', 'creationdate': '2024-11-01T06:05:37-04:00', 'title': '0000320193-24-000123', 'author': 'EDGAR® Online LLC, a subsidiary of OTC Markets Group', 'subject': 'Form 10-K filed on 2024-11-01 for the period ending 2024-09-28', 'keywords': '0000320193-24-000123; ; 10-K', 'moddate': '2024-11-01T06:06:09-04:00', 'source': 'NASDAQ_AAPL_2024.pdf', 'total_pages': 121, 'page': 0, 'page_label': '1'}, page_content='UNITED STATES\\nSECURITIES AND EXCHANGE COMMISSION\\nWashington, D.C. 20549\\nFORM 10-K\\n(Mark One)\\n☒  ANNUAL REPORT PURSUANT TO SECTION 13 OR 15(d) OF THE SECURITIES EXCHANGE ACT OF 1934\\nFor the fiscal year ended September 28, 2024\\nor\\n☐  TRANSITION REPORT PURSUANT TO SECTION 13 OR 15(d) OF THE SECURITIES EXCHANGE ACT OF 1934\\nFor the transition period from              to             .\\nCommission File Number: 001-36743\\nApple Inc.\\n(Exact name of Registrant as specified in its charter)\\nCalifornia 94-2404110\\n(State or other jurisdictionof incorporation or organization) (I.R.S. Employer Identification No.)\\nOne Apple Park Way\\nCupertino, California 95014\\n(Address of principal executive offices) (Zip Code)\\n(408) 996-1010\\n(Registrant’s telephone number, including area code)\\nSecurities registered pursuant to Section 12(b) of the Act:\\nTitle of each class Trading symbol(s) Name of each exchange on which registered\\nCommon Stock, $0.00001 par value per shareAAPL The Nasdaq Stock Market LLC\\n0.000% Notes due 2025 — The Nasdaq Stock Market LLC\\n0.875% Notes due 2025 — The Nasdaq Stock Market LLC\\n1.625% Notes due 2026 — The Nasdaq Stock Market LLC\\n2.000% Notes due 2027 — The Nasdaq Stock Market LLC')),\n",
       " GraphDocument(nodes=[Node(id='0.875% Notes Due 2025', type='Note', properties={}), Node(id='1.625% Notes Due 2026', type='Note', properties={}), Node(id='2.000% Notes Due 2027', type='Note', properties={}), Node(id='1.375% Notes Due 2029', type='Note', properties={}), Node(id='3.050% Notes Due 2029', type='Note', properties={}), Node(id='0.500% Notes Due 2031', type='Note', properties={}), Node(id='3.600% Notes Due 2042', type='Note', properties={}), Node(id='The Nasdaq Stock Market Llc', type='Stock market', properties={}), Node(id='Section 12(G) Of The Act', type='Regulatory section', properties={}), Node(id='Well-Known Seasoned Issuer', type='Issuer status', properties={}), Node(id='Report Filing Requirement', type='Filing requirement', properties={}), Node(id='Filing Compliance', type='Compliance status', properties={})], relationships=[Relationship(source=Node(id='0.875% Notes Due 2025', type='Note', properties={}), target=Node(id='The Nasdaq Stock Market Llc', type='Stock market', properties={}), type='REGISTERED_ON', properties={}), Relationship(source=Node(id='1.625% Notes Due 2026', type='Note', properties={}), target=Node(id='The Nasdaq Stock Market Llc', type='Stock market', properties={}), type='REGISTERED_ON', properties={}), Relationship(source=Node(id='2.000% Notes Due 2027', type='Note', properties={}), target=Node(id='The Nasdaq Stock Market Llc', type='Stock market', properties={}), type='REGISTERED_ON', properties={}), Relationship(source=Node(id='1.375% Notes Due 2029', type='Note', properties={}), target=Node(id='The Nasdaq Stock Market Llc', type='Stock market', properties={}), type='REGISTERED_ON', properties={}), Relationship(source=Node(id='3.050% Notes Due 2029', type='Note', properties={}), target=Node(id='The Nasdaq Stock Market Llc', type='Stock market', properties={}), type='REGISTERED_ON', properties={}), Relationship(source=Node(id='0.500% Notes Due 2031', type='Note', properties={}), target=Node(id='The Nasdaq Stock Market Llc', type='Stock market', properties={}), type='REGISTERED_ON', properties={}), Relationship(source=Node(id='3.600% Notes Due 2042', type='Note', properties={}), target=Node(id='The Nasdaq Stock Market Llc', type='Stock market', properties={}), type='REGISTERED_ON', properties={}), Relationship(source=Node(id='Section 12(G) Of The Act', type='Regulatory section', properties={}), target=Node(id='Securities Registered', type='Security', properties={}), type='REGULATES', properties={}), Relationship(source=Node(id='Well-Known Seasoned Issuer', type='Issuer status', properties={}), target=Node(id='Registrant', type='Registrant', properties={}), type='STATUS', properties={}), Relationship(source=Node(id='Report Filing Requirement', type='Filing requirement', properties={}), target=Node(id='Registrant', type='Registrant', properties={}), type='REQUIRES_FILING', properties={}), Relationship(source=Node(id='Filing Compliance', type='Compliance status', properties={}), target=Node(id='Registrant', type='Registrant', properties={}), type='COMPLIANCE_STATUS', properties={})], source=Document(metadata={'producer': 'EDGRpdf Service w/ EO.Pdf 22.0.40.0', 'creator': 'EDGAR Filing HTML Converter', 'creationdate': '2024-11-01T06:05:37-04:00', 'title': '0000320193-24-000123', 'author': 'EDGAR® Online LLC, a subsidiary of OTC Markets Group', 'subject': 'Form 10-K filed on 2024-11-01 for the period ending 2024-09-28', 'keywords': '0000320193-24-000123; ; 10-K', 'moddate': '2024-11-01T06:06:09-04:00', 'source': 'NASDAQ_AAPL_2024.pdf', 'total_pages': 121, 'page': 0, 'page_label': '1'}, page_content='0.875% Notes due 2025 — The Nasdaq Stock Market LLC\\n1.625% Notes due 2026 — The Nasdaq Stock Market LLC\\n2.000% Notes due 2027 — The Nasdaq Stock Market LLC\\n1.375% Notes due 2029 — The Nasdaq Stock Market LLC\\n3.050% Notes due 2029 — The Nasdaq Stock Market LLC\\n0.500% Notes due 2031 — The Nasdaq Stock Market LLC\\n3.600% Notes due 2042 — The Nasdaq Stock Market LLC\\nSecurities registered pursuant to Section 12(g) of the Act: None\\nIndicate by check mark if the Registrant is a well-known seasoned issuer, as defined in Rule 405 of the Securities Act.\\nYes  ☒      No  ☐ \\nIndicate by check mark if the Registrant is not required to file reports pursuant to Section 13 or Section 15(d) of the Act.\\nYes  ☐      No  ☒ \\nIndicate by check mark whether the Registrant (1) has filed all reports required to be filed by Section 13 or 15(d) of the Securities Exchange Act of 1934 during the preceding 12\\nmonths (or for such shorter period that the Registrant was required to file such reports), and (2) has been subject to such filing requirements for the past 90 days.\\nYes  ☒      No  ☐')),\n",
       " GraphDocument(nodes=[Node(id='Registrant', type='Organization', properties={}), Node(id='Question 1', type='Question', properties={}), Node(id='Question 2', type='Question', properties={})], relationships=[Relationship(source=Node(id='Registrant', type='Organization', properties={}), target=Node(id='Question 1', type='Question', properties={}), type='HAS_FILED_REPORTS', properties={}), Relationship(source=Node(id='Registrant', type='Organization', properties={}), target=Node(id='Question 2', type='Question', properties={}), type='HAS_SUBMITTED_INTERACTIVE_DATA_FILES', properties={})], source=Document(metadata={'producer': 'EDGRpdf Service w/ EO.Pdf 22.0.40.0', 'creator': 'EDGAR Filing HTML Converter', 'creationdate': '2024-11-01T06:05:37-04:00', 'title': '0000320193-24-000123', 'author': 'EDGAR® Online LLC, a subsidiary of OTC Markets Group', 'subject': 'Form 10-K filed on 2024-11-01 for the period ending 2024-09-28', 'keywords': '0000320193-24-000123; ; 10-K', 'moddate': '2024-11-01T06:06:09-04:00', 'source': 'NASDAQ_AAPL_2024.pdf', 'total_pages': 121, 'page': 0, 'page_label': '1'}, page_content='months (or for such shorter period that the Registrant was required to file such reports), and (2) has been subject to such filing requirements for the past 90 days.\\nYes  ☒      No  ☐ \\nIndicate by check mark whether the Registrant has submitted electronically every Interactive Data File required to be submitted pursuant to Rule 405 of Regulation S-T (§232.405 ofthis chapter) during the preceding 12 months (or for such shorter period that the Registrant was required to submit such files).\\nYes  ☒      No  ☐')),\n",
       " GraphDocument(nodes=[Node(id='Registrant', type='Registrant', properties={}), Node(id='Large Accelerated Filer', type='Filer category', properties={}), Node(id='Accelerated Filer', type='Filer category', properties={}), Node(id='Non-Accelerated Filer', type='Filer category', properties={}), Node(id='Smaller Reporting Company', type='Filer category', properties={}), Node(id='Emerging Growth Company', type='Filer category', properties={}), Node(id='Section 404(B) Of The Sarbanes-Oxley Act', type='Act section', properties={})], relationships=[Relationship(source=Node(id='Registrant', type='Registrant', properties={}), target=Node(id='Large Accelerated Filer', type='Filer category', properties={}), type='STATUS', properties={}), Relationship(source=Node(id='Registrant', type='Registrant', properties={}), target=Node(id='Accelerated Filer', type='Filer category', properties={}), type='STATUS', properties={}), Relationship(source=Node(id='Registrant', type='Registrant', properties={}), target=Node(id='Non-Accelerated Filer', type='Filer category', properties={}), type='STATUS', properties={}), Relationship(source=Node(id='Registrant', type='Registrant', properties={}), target=Node(id='Smaller Reporting Company', type='Filer category', properties={}), type='STATUS', properties={}), Relationship(source=Node(id='Registrant', type='Registrant', properties={}), target=Node(id='Emerging Growth Company', type='Filer category', properties={}), type='STATUS', properties={}), Relationship(source=Node(id='Registrant', type='Registrant', properties={}), target=Node(id='Section 404(B) Of The Sarbanes-Oxley Act', type='Act section', properties={}), type='FILED_REPORT_UNDER', properties={})], source=Document(metadata={'producer': 'EDGRpdf Service w/ EO.Pdf 22.0.40.0', 'creator': 'EDGAR Filing HTML Converter', 'creationdate': '2024-11-01T06:05:37-04:00', 'title': '0000320193-24-000123', 'author': 'EDGAR® Online LLC, a subsidiary of OTC Markets Group', 'subject': 'Form 10-K filed on 2024-11-01 for the period ending 2024-09-28', 'keywords': '0000320193-24-000123; ; 10-K', 'moddate': '2024-11-01T06:06:09-04:00', 'source': 'NASDAQ_AAPL_2024.pdf', 'total_pages': 121, 'page': 1, 'page_label': '2'}, page_content='Indicate by check mark whether the Registrant is a large accelerated filer, an accelerated filer, a non-accelerated filer, a smaller reporting company, or an emerging growth company.\\nSee the definitions of “large accelerated filer,” “accelerated filer,” “smaller reporting company,” and “emerging growth company” in Rule 12b-2 of the Exchange Act.\\nLarge accelerated filer ☒ Accelerated filer ☐ \\nNon-accelerated filer ☐ Smaller reporting company ☐ \\nEmerging growth company ☐ \\nIf an emerging growth company, indicate by check mark if the Registrant has elected not to use the extended transition period for complying with any new or revised financial\\naccounting standards provided pursuant to Section 13(a) of the Exchange Act. ☐ \\nIndicate by check mark whether the Registrant has filed a report on and attestation to its management’s assessment of the effectiveness of its internal control over financial reporting\\nunder Section 404(b) of the Sarbanes-Oxley Act (15 U.S.C. 7262(b)) by the registered public accounting firm that prepared or issued its audit report. ☒')),\n",
       " GraphDocument(nodes=[Node(id='Sarbanes-Oxley_Act', type='Legalact', properties={}), Node(id='Section_404(B)', type='Legalsection', properties={}), Node(id='Section_12(B)', type='Legalsection', properties={}), Node(id='Registered_Public_Accounting_Firm', type='Firm', properties={}), Node(id='Audit_Report', type='Document', properties={}), Node(id='Financial_Statements', type='Financialdocument', properties={}), Node(id='Error_Correction', type='Event', properties={}), Node(id='Incentive-Based_Compensation', type='Compensation', properties={}), Node(id='Executive_Officers', type='Role', properties={}), Node(id='Shell_Company', type='Companytype', properties={}), Node(id='Aggregate_Market_Value', type='Financialmetric', properties={})], relationships=[Relationship(source=Node(id='Sarbanes-Oxley_Act', type='Legalact', properties={}), target=Node(id='Section_404(B)', type='Legalsection', properties={}), type='HASPART', properties={}), Relationship(source=Node(id='Sarbanes-Oxley_Act', type='Legalact', properties={}), target=Node(id='Section_12(B)', type='Legalsection', properties={}), type='HASPART', properties={}), Relationship(source=Node(id='Registered_Public_Accounting_Firm', type='Firm', properties={}), target=Node(id='Audit_Report', type='Document', properties={}), type='PREPARED', properties={}), Relationship(source=Node(id='Financial_Statements', type='Financialdocument', properties={}), target=Node(id='Error_Correction', type='Event', properties={}), type='REFLECT', properties={}), Relationship(source=Node(id='Error_Correction', type='Event', properties={}), target=Node(id='Incentive-Based_Compensation', type='Compensation', properties={}), type='RELATEDTO', properties={}), Relationship(source=Node(id='Incentive-Based_Compensation', type='Compensation', properties={}), target=Node(id='Executive_Officers', type='Role', properties={}), type='RECEIVEDBY', properties={}), Relationship(source=Node(id='Shell_Company', type='Companytype', properties={}), target=Node(id='No', type='Value', properties={}), type='IS', properties={}), Relationship(source=Node(id='Aggregate_Market_Value', type='Financialmetric', properties={}), target=Node(id='March_29_2024', type='Date', properties={}), type='ASOF', properties={})], source=Document(metadata={'producer': 'EDGRpdf Service w/ EO.Pdf 22.0.40.0', 'creator': 'EDGAR Filing HTML Converter', 'creationdate': '2024-11-01T06:05:37-04:00', 'title': '0000320193-24-000123', 'author': 'EDGAR® Online LLC, a subsidiary of OTC Markets Group', 'subject': 'Form 10-K filed on 2024-11-01 for the period ending 2024-09-28', 'keywords': '0000320193-24-000123; ; 10-K', 'moddate': '2024-11-01T06:06:09-04:00', 'source': 'NASDAQ_AAPL_2024.pdf', 'total_pages': 121, 'page': 1, 'page_label': '2'}, page_content='under Section 404(b) of the Sarbanes-Oxley Act (15 U.S.C. 7262(b)) by the registered public accounting firm that prepared or issued its audit report. ☒ \\nIf securities are registered pursuant to Section 12(b) of the Act, indicate by check mark whether the financial statements of the registrant included in the filing reflect the correction of\\nan error to previously issued financial statements. ☐ \\nIndicate by check mark whether any of those error corrections are restatements that required a recovery analysis of incentive-based compensation received by any of the registrant’s\\nexecutive officers during the relevant recovery period pursuant to §240.10D-1(b). ☐ \\nIndicate by check mark whether the Registrant is a shell company (as defined in Rule 12b-2 of the Act).\\nYes  ☐      No  ☒ \\nThe aggregate market value of the voting and non-voting stock held by non-affiliates of the Registrant, as of March 29, 2024, the last business day of the Registrant’s most recently')),\n",
       " GraphDocument(nodes=[Node(id='Aggregate Market Value', type='Market value', properties={}), Node(id='Common Stock', type='Stock', properties={}), Node(id='Definitive Proxy Statement', type='Document', properties={}), Node(id='U.S. Securities And Exchange Commission (Sec)', type='Organization', properties={}), Node(id='Executive Officers And Directors', type='Group', properties={})], relationships=[Relationship(source=Node(id='Registrant', type='Organization', properties={}), target=Node(id='Aggregate Market Value', type='Market value', properties={}), type='HAS_AGGREGATE_MARKET_VALUE', properties={}), Relationship(source=Node(id='Registrant', type='Organization', properties={}), target=Node(id='Common Stock', type='Stock', properties={}), type='HAS_OUTSTANDING_STOCK', properties={}), Relationship(source=Node(id='Registrant', type='Organization', properties={}), target=Node(id='Definitive Proxy Statement', type='Document', properties={}), type='INCORPORATES_BY_REFERENCE', properties={}), Relationship(source=Node(id='Definitive Proxy Statement', type='Document', properties={}), target=Node(id='U.S. Securities And Exchange Commission (Sec)', type='Organization', properties={}), type='FILED_WITH', properties={}), Relationship(source=Node(id='Registrant', type='Organization', properties={}), target=Node(id='Executive Officers And Directors', type='Group', properties={}), type='EXCLUDES_AS_AFFILIATES', properties={})], source=Document(metadata={'producer': 'EDGRpdf Service w/ EO.Pdf 22.0.40.0', 'creator': 'EDGAR Filing HTML Converter', 'creationdate': '2024-11-01T06:05:37-04:00', 'title': '0000320193-24-000123', 'author': 'EDGAR® Online LLC, a subsidiary of OTC Markets Group', 'subject': 'Form 10-K filed on 2024-11-01 for the period ending 2024-09-28', 'keywords': '0000320193-24-000123; ; 10-K', 'moddate': '2024-11-01T06:06:09-04:00', 'source': 'NASDAQ_AAPL_2024.pdf', 'total_pages': 121, 'page': 1, 'page_label': '2'}, page_content='The aggregate market value of the voting and non-voting stock held by non-affiliates of the Registrant, as of March 29, 2024, the last business day of the Registrant’s most recently\\ncompleted second fiscal quarter, was approximately $2,628,553,000,000. Solely for purposes of this disclosure, shares of common stock held by executive officers and directors ofthe Registrant as of such date have been excluded because such persons may be deemed to be affiliates. This determination of executive officers and directors as affiliates is not\\nnecessarily a conclusive determination for any other purposes.\\n15,115,823,000 shares of common stock were issued and outstanding as of October 18, 2024.\\nDOCUMENTS INCORPORATED BY REFERENCE\\nPortions of the Registrant’s definitive proxy statement relating to its 2025 annual meeting of shareholders are incorporated by reference into Part III of this Annual Report on Form\\n10-K where indicated. The Registrant’s definitive proxy statement will be filed with the U.S. Securities and Exchange Commission within 120 days after the end of the fiscal year to\\nwhich this report relates.')),\n",
       " GraphDocument(nodes=[Node(id='Apple Inc.', type='Company', properties={}), Node(id='Item 1. Business', type='Section', properties={}), Node(id='Item 1A. Risk Factors', type='Section', properties={}), Node(id='Item 1B. Unresolved Staff Comments', type='Section', properties={}), Node(id='Item 1C. Cybersecurity', type='Section', properties={}), Node(id='Item 2. Properties', type='Section', properties={}), Node(id='Item 3. Legal Proceedings', type='Section', properties={}), Node(id='Item 4. Mine Safety Disclosures', type='Section', properties={}), Node(id='Item 5. Market For Registrant’S Common Equity, Related Stockholder Matters And Issuer Purchases Of Equity Securities', type='Section', properties={}), Node(id='Item 6. [Reserved]', type='Section', properties={}), Node(id='Item 7. Management’S Discussion And Analysis Of Financial Condition And Results Of Operations', type='Section', properties={}), Node(id='Item 7A. Quantitative And Qualitative Disclosures About Market Risk', type='Section', properties={}), Node(id='Item 8. Financial Statements And Supplementary Data', type='Section', properties={}), Node(id='Item 9. Changes In And Disagreements With Accountants On Accounting And Financial Disclosure', type='Section', properties={}), Node(id='Item 9A. Controls And Procedures', type='Section', properties={}), Node(id='Item 9B. Other Information', type='Section', properties={}), Node(id='Item 9C. Disclosure Regarding Foreign Jurisdictions That Prevent Inspections', type='Section', properties={}), Node(id='Item 10. Directors, Executive Officers And Corporate Governance', type='Section', properties={}), Node(id='Item 11. Executive Compensation', type='Section', properties={}), Node(id='Item 12. Security Ownership Of Certain Beneficial Owners And Management And Related Stockholder Matters', type='Section', properties={})], relationships=[Relationship(source=Node(id='Item 1. Business', type='Section', properties={}), target=Node(id='Apple Inc.', type='Company', properties={}), type='PART_OF', properties={}), Relationship(source=Node(id='Item 1A. Risk Factors', type='Section', properties={}), target=Node(id='Apple Inc.', type='Company', properties={}), type='PART_OF', properties={}), Relationship(source=Node(id='Item 1B. Unresolved Staff Comments', type='Section', properties={}), target=Node(id='Apple Inc.', type='Company', properties={}), type='PART_OF', properties={}), Relationship(source=Node(id='Item 1C. Cybersecurity', type='Section', properties={}), target=Node(id='Apple Inc.', type='Company', properties={}), type='PART_OF', properties={}), Relationship(source=Node(id='Item 2. Properties', type='Section', properties={}), target=Node(id='Apple Inc.', type='Company', properties={}), type='PART_OF', properties={}), Relationship(source=Node(id='Item 3. Legal Proceedings', type='Section', properties={}), target=Node(id='Apple Inc.', type='Company', properties={}), type='PART_OF', properties={}), Relationship(source=Node(id='Item 4. Mine Safety Disclosures', type='Section', properties={}), target=Node(id='Apple Inc.', type='Company', properties={}), type='PART_OF', properties={}), Relationship(source=Node(id='Item 5. Market For Registrant’S Common Equity, Related Stockholder Matters And Issuer Purchases Of Equity Securities', type='Section', properties={}), target=Node(id='Apple Inc.', type='Company', properties={}), type='PART_OF', properties={}), Relationship(source=Node(id='Item 6. [Reserved]', type='Section', properties={}), target=Node(id='Apple Inc.', type='Company', properties={}), type='PART_OF', properties={}), Relationship(source=Node(id='Item 7. Management’S Discussion And Analysis Of Financial Condition And Results Of Operations', type='Section', properties={}), target=Node(id='Apple Inc.', type='Company', properties={}), type='PART_OF', properties={}), Relationship(source=Node(id='Item 7A. Quantitative And Qualitative Disclosures About Market Risk', type='Section', properties={}), target=Node(id='Apple Inc.', type='Company', properties={}), type='PART_OF', properties={}), Relationship(source=Node(id='Item 8. Financial Statements And Supplementary Data', type='Section', properties={}), target=Node(id='Apple Inc.', type='Company', properties={}), type='PART_OF', properties={}), Relationship(source=Node(id='Item 9. Changes In And Disagreements With Accountants On Accounting And Financial Disclosure', type='Section', properties={}), target=Node(id='Apple Inc.', type='Company', properties={}), type='PART_OF', properties={}), Relationship(source=Node(id='Item 9A. Controls And Procedures', type='Section', properties={}), target=Node(id='Apple Inc.', type='Company', properties={}), type='PART_OF', properties={}), Relationship(source=Node(id='Item 9B. Other Information', type='Section', properties={}), target=Node(id='Apple Inc.', type='Company', properties={}), type='PART_OF', properties={}), Relationship(source=Node(id='Item 9C. Disclosure Regarding Foreign Jurisdictions That Prevent Inspections', type='Section', properties={}), target=Node(id='Apple Inc.', type='Company', properties={}), type='PART_OF', properties={}), Relationship(source=Node(id='Item 10. Directors, Executive Officers And Corporate Governance', type='Section', properties={}), target=Node(id='Apple Inc.', type='Company', properties={}), type='PART_OF', properties={}), Relationship(source=Node(id='Item 11. Executive Compensation', type='Section', properties={}), target=Node(id='Apple Inc.', type='Company', properties={}), type='PART_OF', properties={}), Relationship(source=Node(id='Item 12. Security Ownership Of Certain Beneficial Owners And Management And Related Stockholder Matters', type='Section', properties={}), target=Node(id='Apple Inc.', type='Company', properties={}), type='PART_OF', properties={})], source=Document(metadata={'producer': 'EDGRpdf Service w/ EO.Pdf 22.0.40.0', 'creator': 'EDGAR Filing HTML Converter', 'creationdate': '2024-11-01T06:05:37-04:00', 'title': '0000320193-24-000123', 'author': 'EDGAR® Online LLC, a subsidiary of OTC Markets Group', 'subject': 'Form 10-K filed on 2024-11-01 for the period ending 2024-09-28', 'keywords': '0000320193-24-000123; ; 10-K', 'moddate': '2024-11-01T06:06:09-04:00', 'source': 'NASDAQ_AAPL_2024.pdf', 'total_pages': 121, 'page': 2, 'page_label': '3'}, page_content='Apple Inc.\\nForm 10-K\\nFor the Fiscal Year Ended September 28, 2024\\nTABLE OF CONTENTS\\nPage\\nPart I\\nItem 1. Business 1\\nItem 1A. Risk Factors 5\\nItem 1B. Unresolved Staff Comments 17\\nItem 1C. Cybersecurity 17\\nItem 2. Properties 18\\nItem 3. Legal Proceedings 18\\nItem 4. Mine Safety Disclosures 18\\nPart II\\nItem 5. Market for Registrant’s Common Equity, Related Stockholder Matters and Issuer Purchases of Equity Securities19\\nItem 6. [Reserved] 20\\nItem 7. Management’s Discussion and Analysis of Financial Condition and Results of Operations 21\\nItem 7A. Quantitative and Qualitative Disclosures About Market Risk 27\\nItem 8. Financial Statements and Supplementary Data 28\\nItem 9. Changes in and Disagreements with Accountants on Accounting and Financial Disclosure 51\\nItem 9A. Controls and Procedures 51\\nItem 9B. Other Information 52\\nItem 9C. Disclosure Regarding Foreign Jurisdictions that Prevent Inspections 52\\nPart III\\nItem 10. Directors, Executive Officers and Corporate Governance 52\\nItem 11. Executive Compensation 52\\nItem 12. Security Ownership of Certain Beneficial Owners and Management and Related Stockholder Matters52')),\n",
       " GraphDocument(nodes=[Node(id='Item 11', type='Section', properties={}), Node(id='Item 12', type='Section', properties={}), Node(id='Item 13', type='Section', properties={}), Node(id='Item 14', type='Section', properties={}), Node(id='Item 15', type='Section', properties={}), Node(id='Item 16', type='Section', properties={}), Node(id='Pagenumber 52', type='Pagenumber', properties={}), Node(id='Pagenumber 53', type='Pagenumber', properties={}), Node(id='Pagenumber 56', type='Pagenumber', properties={})], relationships=[Relationship(source=Node(id='Item 11', type='Section', properties={}), target=Node(id='Pagenumber 52', type='Pagenumber', properties={}), type='LOCATEDON', properties={}), Relationship(source=Node(id='Item 12', type='Section', properties={}), target=Node(id='Pagenumber 52', type='Pagenumber', properties={}), type='LOCATEDON', properties={}), Relationship(source=Node(id='Item 13', type='Section', properties={}), target=Node(id='Pagenumber 52', type='Pagenumber', properties={}), type='LOCATEDON', properties={}), Relationship(source=Node(id='Item 14', type='Section', properties={}), target=Node(id='Pagenumber 52', type='Pagenumber', properties={}), type='LOCATEDON', properties={}), Relationship(source=Node(id='Item 15', type='Section', properties={}), target=Node(id='Pagenumber 53', type='Pagenumber', properties={}), type='LOCATEDON', properties={}), Relationship(source=Node(id='Item 16', type='Section', properties={}), target=Node(id='Pagenumber 56', type='Pagenumber', properties={}), type='LOCATEDON', properties={})], source=Document(metadata={'producer': 'EDGRpdf Service w/ EO.Pdf 22.0.40.0', 'creator': 'EDGAR Filing HTML Converter', 'creationdate': '2024-11-01T06:05:37-04:00', 'title': '0000320193-24-000123', 'author': 'EDGAR® Online LLC, a subsidiary of OTC Markets Group', 'subject': 'Form 10-K filed on 2024-11-01 for the period ending 2024-09-28', 'keywords': '0000320193-24-000123; ; 10-K', 'moddate': '2024-11-01T06:06:09-04:00', 'source': 'NASDAQ_AAPL_2024.pdf', 'total_pages': 121, 'page': 2, 'page_label': '3'}, page_content='Item 11. Executive Compensation 52\\nItem 12. Security Ownership of Certain Beneficial Owners and Management and Related Stockholder Matters52\\nItem 13. Certain Relationships and Related Transactions, and Director Independence 52\\nItem 14. Principal Accountant Fees and Services 52\\nPart IV\\nItem 15. Exhibit and Financial Statement Schedules 53\\nItem 16. Form 10-K Summary 56')),\n",
       " GraphDocument(nodes=[Node(id='Form 10-K', type='Document', properties={}), Node(id='Forward-Looking Statements', type='Concept', properties={}), Node(id='Private Securities Litigation Reform Act Of 1995', type='Legislation', properties={}), Node(id='Part I, Item 1', type='Section', properties={}), Node(id='Part Ii, Item 7', type='Section', properties={}), Node(id='Risks And Uncertainties', type='Concept', properties={}), Node(id='Macroeconomic Conditions', type='Concept', properties={}), Node(id='Business', type='Concept', properties={}), Node(id='Results Of Operations', type='Concept', properties={})], relationships=[Relationship(source=Node(id='Form 10-K', type='Document', properties={}), target=Node(id='Forward-Looking Statements', type='Concept', properties={}), type='CONTAINS', properties={}), Relationship(source=Node(id='Forward-Looking Statements', type='Concept', properties={}), target=Node(id='Private Securities Litigation Reform Act Of 1995', type='Legislation', properties={}), type='GOVERNED_BY', properties={}), Relationship(source=Node(id='Forward-Looking Statements', type='Concept', properties={}), target=Node(id='Part I, Item 1', type='Section', properties={}), type='LOCATED_IN', properties={}), Relationship(source=Node(id='Forward-Looking Statements', type='Concept', properties={}), target=Node(id='Part Ii, Item 7', type='Section', properties={}), type='LOCATED_IN', properties={}), Relationship(source=Node(id='Forward-Looking Statements', type='Concept', properties={}), target=Node(id='Risks And Uncertainties', type='Concept', properties={}), type='INVOLVES', properties={}), Relationship(source=Node(id='Forward-Looking Statements', type='Concept', properties={}), target=Node(id='Macroeconomic Conditions', type='Concept', properties={}), type='RELATED_TO', properties={}), Relationship(source=Node(id='Macroeconomic Conditions', type='Concept', properties={}), target=Node(id='Business', type='Concept', properties={}), type='IMPACTS', properties={}), Relationship(source=Node(id='Macroeconomic Conditions', type='Concept', properties={}), target=Node(id='Results Of Operations', type='Concept', properties={}), type='IMPACTS', properties={})], source=Document(metadata={'producer': 'EDGRpdf Service w/ EO.Pdf 22.0.40.0', 'creator': 'EDGAR Filing HTML Converter', 'creationdate': '2024-11-01T06:05:37-04:00', 'title': '0000320193-24-000123', 'author': 'EDGAR® Online LLC, a subsidiary of OTC Markets Group', 'subject': 'Form 10-K filed on 2024-11-01 for the period ending 2024-09-28', 'keywords': '0000320193-24-000123; ; 10-K', 'moddate': '2024-11-01T06:06:09-04:00', 'source': 'NASDAQ_AAPL_2024.pdf', 'total_pages': 121, 'page': 3, 'page_label': '4'}, page_content='This Annual Report on Form 10-K (“Form 10-K”) contains forward-looking statements, within the meaning of the Private Securities Litigation Reform Act of 1995,\\nthat involve risks and uncertainties. Many of the forward-looking statements are located in Part I, Item 1 of this Form 10-K under the heading “Business” and PartII, Item 7 of this Form 10-K under the heading “Management’s Discussion and Analysis of Financial Condition and Results of Operations.” Forward-lookingstatements provide current expectations of future events based on certain assumptions and include any statement that does not directly relate to any historical\\nor current fact. For example, statements in this Form 10-K regarding the potential future impact of macroeconomic conditions on the Company’s business andresults of operations are forward-looking statements. Forward-looking statements can also be identified by words such as “future,” “anticipates,” “believes,”')),\n",
       " GraphDocument(nodes=[Node(id='Forward-Looking Statements', type='Concept', properties={}), Node(id='Company', type='Organization', properties={}), Node(id='Apple Inc.', type='Organization', properties={}), Node(id='Fiscal Calendar', type='Concept', properties={})], relationships=[Relationship(source=Node(id='Company', type='Organization', properties={}), target=Node(id='Apple Inc.', type='Organization', properties={}), type='REFERS_TO', properties={}), Relationship(source=Node(id='Company', type='Organization', properties={}), target=Node(id='Fiscal Calendar', type='Concept', properties={}), type='BASED_ON', properties={})], source=Document(metadata={'producer': 'EDGRpdf Service w/ EO.Pdf 22.0.40.0', 'creator': 'EDGAR Filing HTML Converter', 'creationdate': '2024-11-01T06:05:37-04:00', 'title': '0000320193-24-000123', 'author': 'EDGAR® Online LLC, a subsidiary of OTC Markets Group', 'subject': 'Form 10-K filed on 2024-11-01 for the period ending 2024-09-28', 'keywords': '0000320193-24-000123; ; 10-K', 'moddate': '2024-11-01T06:06:09-04:00', 'source': 'NASDAQ_AAPL_2024.pdf', 'total_pages': 121, 'page': 3, 'page_label': '4'}, page_content='“estimates,” “expects,” “intends,” “plans,” “predicts,” “will,” “would,” “could,” “can,” “may,” and similar terms. Forward-looking statements are not guarantees offuture performance and the Company’s actual results may differ significantly from the results discussed in the forward-looking statements. Factors that mightcause such differences include, but are not limited to, those discussed in Part I, Item 1A of this Form 10-K under the heading “Risk Factors.” The Company\\nassumes no obligation to revise or update any forward-looking statements for any reason, except as required by law.\\nUnless otherwise stated, all information presented herein is based on the Company’s fiscal calendar, and references to particular years, quarters, months or\\nperiods refer to the Company’s fiscal years ended in September and the associated quarters, months and periods of those fiscal years. Each of the terms the“Company” and “Apple” as used herein refers collectively to Apple Inc. and its wholly owned subsidiaries, unless otherwise stated.\\nPART I\\nItem 1.    Business\\nCompany Background'))]"
      ]
     },
     "execution_count": 47,
     "metadata": {},
     "output_type": "execute_result"
    }
   ],
   "source": [
    "graph_documents"
   ]
  },
  {
   "cell_type": "code",
   "execution_count": 48,
   "id": "e9961dc0",
   "metadata": {},
   "outputs": [],
   "source": [
    "# # store to neo4j\n",
    "res = kg.add_graph_documents(\n",
    "    graph_documents,\n",
    "    include_source=True,\n",
    "    baseEntityLabel=True,\n",
    ")\n"
   ]
  },
  {
   "cell_type": "code",
   "execution_count": 49,
   "id": "4d8b6592",
   "metadata": {},
   "outputs": [],
   "source": [
    "from langchain_huggingface import HuggingFaceEmbeddings\n",
    "\n",
    "model_name = \"sentence-transformers/all-mpnet-base-v2\"\n",
    "model_kwargs = {'device': 'cpu'}\n",
    "encode_kwargs = {'normalize_embeddings': False}\n",
    "hf = HuggingFaceEmbeddings(\n",
    "    model_name=model_name,\n",
    "    model_kwargs=model_kwargs,\n",
    "    encode_kwargs=encode_kwargs\n",
    ")"
   ]
  },
  {
   "cell_type": "code",
   "execution_count": 56,
   "id": "3fc40487",
   "metadata": {},
   "outputs": [],
   "source": [
    "# create vector index\n",
    "vector_index = Neo4jVector.from_existing_graph(\n",
    "    hf,\n",
    "    search_type=\"hybrid\",\n",
    "    node_label=\"Document\",\n",
    "    text_node_properties=[\"text\"],\n",
    "    embedding_node_property=\"embedding\",\n",
    ")\n"
   ]
  },
  {
   "cell_type": "code",
   "execution_count": 57,
   "id": "e75b7b11",
   "metadata": {},
   "outputs": [],
   "source": [
    "# Extract entities from text\n",
    "class Entities(BaseModel):\n",
    "    \"\"\"Identifying information about entities.\"\"\"\n",
    "\n",
    "    names: List[str] = Field(\n",
    "        ...,\n",
    "        description=\"All the person, organization, or business entities that \"\n",
    "        \"appear in the text\",\n",
    "    )\n",
    "\n",
    "\n",
    "prompt = ChatPromptTemplate.from_messages(\n",
    "    [\n",
    "        (\n",
    "            \"system\",\n",
    "            \"You are extracting organization and person entities from the text.\",\n",
    "        ),\n",
    "        (\n",
    "            \"human\",\n",
    "            \"Use the given format to extract information from the following \"\n",
    "            \"input: {question}\",\n",
    "        ),\n",
    "    ]\n",
    ")\n"
   ]
  },
  {
   "cell_type": "code",
   "execution_count": 58,
   "id": "44112744",
   "metadata": {},
   "outputs": [
    {
     "data": {
      "text/plain": [
       "ChatGroq(client=<groq.resources.chat.completions.Completions object at 0x000001A90C52CE90>, async_client=<groq.resources.chat.completions.AsyncCompletions object at 0x000001A90C3E4450>, model_name='deepseek-r1-distill-llama-70b', temperature=1e-08, model_kwargs={}, groq_api_key=SecretStr('**********'))"
      ]
     },
     "execution_count": 58,
     "metadata": {},
     "output_type": "execute_result"
    }
   ],
   "source": [
    "chat"
   ]
  },
  {
   "cell_type": "code",
   "execution_count": 59,
   "id": "dd0a4148",
   "metadata": {},
   "outputs": [],
   "source": [
    "entity_chain = prompt | chat.with_structured_output(Entities)"
   ]
  },
  {
   "cell_type": "code",
   "execution_count": 60,
   "id": "50a8e4ef",
   "metadata": {},
   "outputs": [
    {
     "name": "stdout",
     "output_type": "stream",
     "text": [
      "['apple']\n"
     ]
    }
   ],
   "source": [
    "# # Test it out:\n",
    "res = entity_chain.invoke(\n",
    "    {\"question\": \"tell me the growth rate of apple in 2024\"}\n",
    ").names\n",
    "print(res)"
   ]
  },
  {
   "cell_type": "code",
   "execution_count": 61,
   "id": "fad291d3",
   "metadata": {},
   "outputs": [],
   "source": [
    "def generate_full_text_query(input: str) -> str:\n",
    "    \"\"\"\n",
    "    Generate a full-text search query for a given input string.\n",
    "\n",
    "    This function constructs a query string suitable for a full-text search.\n",
    "    It processes the input string by splitting it into words and appending a\n",
    "    similarity threshold (~2 changed characters) to each word, then combines\n",
    "    them using the AND operator. Useful for mapping entities from user questions\n",
    "    to database values, and allows for some misspelings.\n",
    "    \"\"\"\n",
    "    full_text_query = \"\"\n",
    "    words = [el for el in remove_lucene_chars(input).split() if el]\n",
    "    for word in words[:-1]:\n",
    "        full_text_query += f\" {word}~2 AND\"\n",
    "    full_text_query += f\" {words[-1]}~2\"\n",
    "    return full_text_query.strip()\n"
   ]
  },
  {
   "cell_type": "code",
   "execution_count": 62,
   "id": "5d1e84a6",
   "metadata": {},
   "outputs": [],
   "source": [
    "def structured_retriever(question: str) -> str:\n",
    "    \"\"\"\n",
    "    Collects the neighborhood of entities mentioned\n",
    "    in the question\n",
    "    \"\"\"\n",
    "    result = \"\"\n",
    "    entities = entity_chain.invoke({\"question\": question})\n",
    "    for entity in entities.names:\n",
    "        print(f\" Getting Entity: {entity}\")\n",
    "        response = kg.query(\n",
    "            \"\"\"CALL db.index.fulltext.queryNodes('entity', $query, {limit:2})\n",
    "            YIELD node,score\n",
    "            CALL {\n",
    "              WITH node\n",
    "              MATCH (node)-[r:!MENTIONS]->(neighbor)\n",
    "              RETURN node.id + ' - ' + type(r) + ' -> ' + neighbor.id AS output\n",
    "              UNION ALL\n",
    "              WITH node\n",
    "              MATCH (node)<-[r:!MENTIONS]-(neighbor)\n",
    "              RETURN neighbor.id + ' - ' + type(r) + ' -> ' +  node.id AS output\n",
    "            }\n",
    "            RETURN output LIMIT 50\n",
    "            \"\"\",\n",
    "            {\"query\": generate_full_text_query(entity)},\n",
    "        )\n",
    "        # print(response)\n",
    "        result += \"\\n\".join([el[\"output\"] for el in response])\n",
    "    return result"
   ]
  },
  {
   "cell_type": "code",
   "execution_count": 64,
   "id": "0faf8124",
   "metadata": {},
   "outputs": [
    {
     "name": "stdout",
     "output_type": "stream",
     "text": [
      " Getting Entity: tell me the growth rate of apple in 2024\n"
     ]
    },
    {
     "ename": "ClientError",
     "evalue": "{code: Neo.ClientError.Procedure.ProcedureCallFailed} {message: Failed to invoke procedure `db.index.fulltext.queryNodes`: Caused by: java.lang.IllegalArgumentException: There is no such fulltext schema index: entity}",
     "output_type": "error",
     "traceback": [
      "\u001b[1;31m---------------------------------------------------------------------------\u001b[0m",
      "\u001b[1;31mGqlError\u001b[0m                                  Traceback (most recent call last)",
      "\u001b[1;31mGqlError\u001b[0m: {gql_status: 52U00} {gql_status_description: error: procedure exception - custom procedure execution error cause. Execution of the procedure db.index.fulltext.queryNodes() failed due to java.lang.IllegalArgumentException: There is no such fulltext schema index: entity.} {message: 52U00: Execution of the procedure db.index.fulltext.queryNodes() failed due to java.lang.IllegalArgumentException: There is no such fulltext schema index: entity.} {diagnostic_record: {'OPERATION': '', 'OPERATION_CODE': '0', 'CURRENT_SCHEMA': '/'}} {raw_classification: None}",
      "\nThe above exception was the direct cause of the following exception:\n",
      "\u001b[1;31mClientError\u001b[0m                               Traceback (most recent call last)",
      "Cell \u001b[1;32mIn[64], line 1\u001b[0m\n\u001b[1;32m----> 1\u001b[0m \u001b[38;5;28mprint\u001b[39m(\u001b[43mstructured_retriever\u001b[49m\u001b[43m(\u001b[49m\u001b[38;5;124;43m\"\u001b[39;49m\u001b[38;5;124;43mtell me the growth rate of apple in 2024\u001b[39;49m\u001b[38;5;124;43m\"\u001b[39;49m\u001b[43m)\u001b[49m)\n",
      "Cell \u001b[1;32mIn[62], line 10\u001b[0m, in \u001b[0;36mstructured_retriever\u001b[1;34m(question)\u001b[0m\n\u001b[0;32m      8\u001b[0m \u001b[38;5;28;01mfor\u001b[39;00m entity \u001b[38;5;129;01min\u001b[39;00m entities\u001b[38;5;241m.\u001b[39mnames:\n\u001b[0;32m      9\u001b[0m     \u001b[38;5;28mprint\u001b[39m(\u001b[38;5;124mf\u001b[39m\u001b[38;5;124m\"\u001b[39m\u001b[38;5;124m Getting Entity: \u001b[39m\u001b[38;5;132;01m{\u001b[39;00mentity\u001b[38;5;132;01m}\u001b[39;00m\u001b[38;5;124m\"\u001b[39m)\n\u001b[1;32m---> 10\u001b[0m     response \u001b[38;5;241m=\u001b[39m \u001b[43mkg\u001b[49m\u001b[38;5;241;43m.\u001b[39;49m\u001b[43mquery\u001b[49m\u001b[43m(\u001b[49m\n\u001b[0;32m     11\u001b[0m \u001b[38;5;250;43m        \u001b[39;49m\u001b[38;5;124;43;03m\"\"\"CALL db.index.fulltext.queryNodes('entity', $query, {limit:2})\u001b[39;49;00m\n\u001b[0;32m     12\u001b[0m \u001b[38;5;124;43;03m        YIELD node,score\u001b[39;49;00m\n\u001b[0;32m     13\u001b[0m \u001b[38;5;124;43;03m        CALL {\u001b[39;49;00m\n\u001b[0;32m     14\u001b[0m \u001b[38;5;124;43;03m          WITH node\u001b[39;49;00m\n\u001b[0;32m     15\u001b[0m \u001b[38;5;124;43;03m          MATCH (node)-[r:!MENTIONS]->(neighbor)\u001b[39;49;00m\n\u001b[0;32m     16\u001b[0m \u001b[38;5;124;43;03m          RETURN node.id + ' - ' + type(r) + ' -> ' + neighbor.id AS output\u001b[39;49;00m\n\u001b[0;32m     17\u001b[0m \u001b[38;5;124;43;03m          UNION ALL\u001b[39;49;00m\n\u001b[0;32m     18\u001b[0m \u001b[38;5;124;43;03m          WITH node\u001b[39;49;00m\n\u001b[0;32m     19\u001b[0m \u001b[38;5;124;43;03m          MATCH (node)<-[r:!MENTIONS]-(neighbor)\u001b[39;49;00m\n\u001b[0;32m     20\u001b[0m \u001b[38;5;124;43;03m          RETURN neighbor.id + ' - ' + type(r) + ' -> ' +  node.id AS output\u001b[39;49;00m\n\u001b[0;32m     21\u001b[0m \u001b[38;5;124;43;03m        }\u001b[39;49;00m\n\u001b[0;32m     22\u001b[0m \u001b[38;5;124;43;03m        RETURN output LIMIT 50\u001b[39;49;00m\n\u001b[0;32m     23\u001b[0m \u001b[38;5;124;43;03m        \"\"\"\u001b[39;49;00m\u001b[43m,\u001b[49m\n\u001b[0;32m     24\u001b[0m \u001b[43m        \u001b[49m\u001b[43m{\u001b[49m\u001b[38;5;124;43m\"\u001b[39;49m\u001b[38;5;124;43mquery\u001b[39;49m\u001b[38;5;124;43m\"\u001b[39;49m\u001b[43m:\u001b[49m\u001b[43m \u001b[49m\u001b[43mgenerate_full_text_query\u001b[49m\u001b[43m(\u001b[49m\u001b[43mentity\u001b[49m\u001b[43m)\u001b[49m\u001b[43m}\u001b[49m\u001b[43m,\u001b[49m\n\u001b[0;32m     25\u001b[0m \u001b[43m    \u001b[49m\u001b[43m)\u001b[49m\n\u001b[0;32m     26\u001b[0m     \u001b[38;5;66;03m# print(response)\u001b[39;00m\n\u001b[0;32m     27\u001b[0m     result \u001b[38;5;241m+\u001b[39m\u001b[38;5;241m=\u001b[39m \u001b[38;5;124m\"\u001b[39m\u001b[38;5;130;01m\\n\u001b[39;00m\u001b[38;5;124m\"\u001b[39m\u001b[38;5;241m.\u001b[39mjoin([el[\u001b[38;5;124m\"\u001b[39m\u001b[38;5;124moutput\u001b[39m\u001b[38;5;124m\"\u001b[39m] \u001b[38;5;28;01mfor\u001b[39;00m el \u001b[38;5;129;01min\u001b[39;00m response])\n",
      "File \u001b[1;32mc:\\Users\\Subrata Samanta\\miniconda3\\envs\\genai\\Lib\\site-packages\\langchain_neo4j\\graphs\\neo4j_graph.py:230\u001b[0m, in \u001b[0;36mNeo4jGraph.query\u001b[1;34m(self, query, params, session_params)\u001b[0m\n\u001b[0;32m    228\u001b[0m \u001b[38;5;28;01mif\u001b[39;00m \u001b[38;5;129;01mnot\u001b[39;00m session_params:\n\u001b[0;32m    229\u001b[0m     \u001b[38;5;28;01mtry\u001b[39;00m:\n\u001b[1;32m--> 230\u001b[0m         data, _, _ \u001b[38;5;241m=\u001b[39m \u001b[38;5;28;43mself\u001b[39;49m\u001b[38;5;241;43m.\u001b[39;49m\u001b[43m_driver\u001b[49m\u001b[38;5;241;43m.\u001b[39;49m\u001b[43mexecute_query\u001b[49m\u001b[43m(\u001b[49m\n\u001b[0;32m    231\u001b[0m \u001b[43m            \u001b[49m\u001b[43mQuery\u001b[49m\u001b[43m(\u001b[49m\u001b[43mtext\u001b[49m\u001b[38;5;241;43m=\u001b[39;49m\u001b[43mquery\u001b[49m\u001b[43m,\u001b[49m\u001b[43m \u001b[49m\u001b[43mtimeout\u001b[49m\u001b[38;5;241;43m=\u001b[39;49m\u001b[38;5;28;43mself\u001b[39;49m\u001b[38;5;241;43m.\u001b[39;49m\u001b[43mtimeout\u001b[49m\u001b[43m)\u001b[49m\u001b[43m,\u001b[49m\n\u001b[0;32m    232\u001b[0m \u001b[43m            \u001b[49m\u001b[43mdatabase_\u001b[49m\u001b[38;5;241;43m=\u001b[39;49m\u001b[38;5;28;43mself\u001b[39;49m\u001b[38;5;241;43m.\u001b[39;49m\u001b[43m_database\u001b[49m\u001b[43m,\u001b[49m\n\u001b[0;32m    233\u001b[0m \u001b[43m            \u001b[49m\u001b[43mparameters_\u001b[49m\u001b[38;5;241;43m=\u001b[39;49m\u001b[43mparams\u001b[49m\u001b[43m,\u001b[49m\n\u001b[0;32m    234\u001b[0m \u001b[43m        \u001b[49m\u001b[43m)\u001b[49m\n\u001b[0;32m    235\u001b[0m         json_data \u001b[38;5;241m=\u001b[39m [r\u001b[38;5;241m.\u001b[39mdata() \u001b[38;5;28;01mfor\u001b[39;00m r \u001b[38;5;129;01min\u001b[39;00m data]\n\u001b[0;32m    236\u001b[0m         \u001b[38;5;28;01mif\u001b[39;00m \u001b[38;5;28mself\u001b[39m\u001b[38;5;241m.\u001b[39msanitize:\n",
      "File \u001b[1;32mc:\\Users\\Subrata Samanta\\miniconda3\\envs\\genai\\Lib\\site-packages\\neo4j\\_sync\\driver.py:970\u001b[0m, in \u001b[0;36mDriver.execute_query\u001b[1;34m(self, query_, parameters_, routing_, database_, impersonated_user_, bookmark_manager_, auth_, result_transformer_, **kwargs)\u001b[0m\n\u001b[0;32m    966\u001b[0m     \u001b[38;5;28;01mraise\u001b[39;00m \u001b[38;5;167;01mValueError\u001b[39;00m(\n\u001b[0;32m    967\u001b[0m         \u001b[38;5;124mf\u001b[39m\u001b[38;5;124m\"\u001b[39m\u001b[38;5;124mInvalid routing control value: \u001b[39m\u001b[38;5;132;01m{\u001b[39;00mrouting_\u001b[38;5;132;01m!r}\u001b[39;00m\u001b[38;5;124m\"\u001b[39m\n\u001b[0;32m    968\u001b[0m     )\n\u001b[0;32m    969\u001b[0m \u001b[38;5;28;01mwith\u001b[39;00m session\u001b[38;5;241m.\u001b[39m_pipelined_begin:\n\u001b[1;32m--> 970\u001b[0m     \u001b[38;5;28;01mreturn\u001b[39;00m \u001b[43msession\u001b[49m\u001b[38;5;241;43m.\u001b[39;49m\u001b[43m_run_transaction\u001b[49m\u001b[43m(\u001b[49m\n\u001b[0;32m    971\u001b[0m \u001b[43m        \u001b[49m\u001b[43maccess_mode\u001b[49m\u001b[43m,\u001b[49m\n\u001b[0;32m    972\u001b[0m \u001b[43m        \u001b[49m\u001b[43mTelemetryAPI\u001b[49m\u001b[38;5;241;43m.\u001b[39;49m\u001b[43mDRIVER\u001b[49m\u001b[43m,\u001b[49m\n\u001b[0;32m    973\u001b[0m \u001b[43m        \u001b[49m\u001b[43mwork\u001b[49m\u001b[43m,\u001b[49m\n\u001b[0;32m    974\u001b[0m \u001b[43m        \u001b[49m\u001b[43m(\u001b[49m\u001b[43mquery_str\u001b[49m\u001b[43m,\u001b[49m\u001b[43m \u001b[49m\u001b[43mparameters\u001b[49m\u001b[43m,\u001b[49m\u001b[43m \u001b[49m\u001b[43mresult_transformer_\u001b[49m\u001b[43m)\u001b[49m\u001b[43m,\u001b[49m\n\u001b[0;32m    975\u001b[0m \u001b[43m        \u001b[49m\u001b[43m{\u001b[49m\u001b[43m}\u001b[49m\u001b[43m,\u001b[49m\n\u001b[0;32m    976\u001b[0m \u001b[43m    \u001b[49m\u001b[43m)\u001b[49m\n",
      "File \u001b[1;32mc:\\Users\\Subrata Samanta\\miniconda3\\envs\\genai\\Lib\\site-packages\\neo4j\\_sync\\work\\session.py:583\u001b[0m, in \u001b[0;36mSession._run_transaction\u001b[1;34m(self, access_mode, api, transaction_function, args, kwargs)\u001b[0m\n\u001b[0;32m    581\u001b[0m tx \u001b[38;5;241m=\u001b[39m \u001b[38;5;28mself\u001b[39m\u001b[38;5;241m.\u001b[39m_transaction\n\u001b[0;32m    582\u001b[0m \u001b[38;5;28;01mtry\u001b[39;00m:\n\u001b[1;32m--> 583\u001b[0m     result \u001b[38;5;241m=\u001b[39m \u001b[43mtransaction_function\u001b[49m\u001b[43m(\u001b[49m\u001b[43mtx\u001b[49m\u001b[43m,\u001b[49m\u001b[43m \u001b[49m\u001b[38;5;241;43m*\u001b[39;49m\u001b[43margs\u001b[49m\u001b[43m,\u001b[49m\u001b[43m \u001b[49m\u001b[38;5;241;43m*\u001b[39;49m\u001b[38;5;241;43m*\u001b[39;49m\u001b[43mkwargs\u001b[49m\u001b[43m)\u001b[49m\n\u001b[0;32m    584\u001b[0m \u001b[38;5;28;01mexcept\u001b[39;00m asyncio\u001b[38;5;241m.\u001b[39mCancelledError:\n\u001b[0;32m    585\u001b[0m     \u001b[38;5;66;03m# if cancellation callback has not been called yet:\u001b[39;00m\n\u001b[0;32m    586\u001b[0m     \u001b[38;5;28;01mif\u001b[39;00m \u001b[38;5;28mself\u001b[39m\u001b[38;5;241m.\u001b[39m_transaction \u001b[38;5;129;01mis\u001b[39;00m \u001b[38;5;129;01mnot\u001b[39;00m \u001b[38;5;28;01mNone\u001b[39;00m:\n",
      "File \u001b[1;32mc:\\Users\\Subrata Samanta\\miniconda3\\envs\\genai\\Lib\\site-packages\\neo4j\\_work\\query.py:144\u001b[0m, in \u001b[0;36munit_of_work.<locals>.wrapper.<locals>.wrapped\u001b[1;34m(*args, **kwargs)\u001b[0m\n\u001b[0;32m    143\u001b[0m \u001b[38;5;28;01mdef\u001b[39;00m\u001b[38;5;250m \u001b[39m\u001b[38;5;21mwrapped\u001b[39m(\u001b[38;5;241m*\u001b[39margs, \u001b[38;5;241m*\u001b[39m\u001b[38;5;241m*\u001b[39mkwargs):\n\u001b[1;32m--> 144\u001b[0m     \u001b[38;5;28;01mreturn\u001b[39;00m \u001b[43mf\u001b[49m\u001b[43m(\u001b[49m\u001b[38;5;241;43m*\u001b[39;49m\u001b[43margs\u001b[49m\u001b[43m,\u001b[49m\u001b[43m \u001b[49m\u001b[38;5;241;43m*\u001b[39;49m\u001b[38;5;241;43m*\u001b[39;49m\u001b[43mkwargs\u001b[49m\u001b[43m)\u001b[49m\n",
      "File \u001b[1;32mc:\\Users\\Subrata Samanta\\miniconda3\\envs\\genai\\Lib\\site-packages\\neo4j\\_sync\\driver.py:1307\u001b[0m, in \u001b[0;36m_work\u001b[1;34m(tx, query, parameters, transformer)\u001b[0m\n\u001b[0;32m   1300\u001b[0m \u001b[38;5;28;01mdef\u001b[39;00m\u001b[38;5;250m \u001b[39m\u001b[38;5;21m_work\u001b[39m(\n\u001b[0;32m   1301\u001b[0m     tx: ManagedTransaction,\n\u001b[0;32m   1302\u001b[0m     query: te\u001b[38;5;241m.\u001b[39mLiteralString,\n\u001b[0;32m   1303\u001b[0m     parameters: \u001b[38;5;28mdict\u001b[39m[\u001b[38;5;28mstr\u001b[39m, t\u001b[38;5;241m.\u001b[39mAny],\n\u001b[0;32m   1304\u001b[0m     transformer: t\u001b[38;5;241m.\u001b[39mCallable[[Result], t\u001b[38;5;241m.\u001b[39mUnion[_T]],\n\u001b[0;32m   1305\u001b[0m ) \u001b[38;5;241m-\u001b[39m\u001b[38;5;241m>\u001b[39m _T:\n\u001b[0;32m   1306\u001b[0m     res \u001b[38;5;241m=\u001b[39m tx\u001b[38;5;241m.\u001b[39mrun(query, parameters)\n\u001b[1;32m-> 1307\u001b[0m     \u001b[38;5;28;01mreturn\u001b[39;00m \u001b[43mtransformer\u001b[49m\u001b[43m(\u001b[49m\u001b[43mres\u001b[49m\u001b[43m)\u001b[49m\n",
      "File \u001b[1;32mc:\\Users\\Subrata Samanta\\miniconda3\\envs\\genai\\Lib\\site-packages\\neo4j\\_sync\\work\\result.py:802\u001b[0m, in \u001b[0;36mResult.to_eager_result\u001b[1;34m(self)\u001b[0m\n\u001b[0;32m    784\u001b[0m \u001b[38;5;129m@NonConcurrentMethodChecker\u001b[39m\u001b[38;5;241m.\u001b[39m_non_concurrent_method\n\u001b[0;32m    785\u001b[0m \u001b[38;5;28;01mdef\u001b[39;00m\u001b[38;5;250m \u001b[39m\u001b[38;5;21mto_eager_result\u001b[39m(\u001b[38;5;28mself\u001b[39m) \u001b[38;5;241m-\u001b[39m\u001b[38;5;241m>\u001b[39m EagerResult:\n\u001b[0;32m    786\u001b[0m \u001b[38;5;250m    \u001b[39m\u001b[38;5;124;03m\"\"\"\u001b[39;00m\n\u001b[0;32m    787\u001b[0m \u001b[38;5;124;03m    Convert this result to an :class:`.EagerResult`.\u001b[39;00m\n\u001b[0;32m    788\u001b[0m \n\u001b[1;32m   (...)\u001b[0m\n\u001b[0;32m    800\u001b[0m \u001b[38;5;124;03m    .. versionchanged:: 5.8 Stabilized from experimental.\u001b[39;00m\n\u001b[0;32m    801\u001b[0m \u001b[38;5;124;03m    \"\"\"\u001b[39;00m\n\u001b[1;32m--> 802\u001b[0m     \u001b[38;5;28;43mself\u001b[39;49m\u001b[38;5;241;43m.\u001b[39;49m\u001b[43m_buffer_all\u001b[49m\u001b[43m(\u001b[49m\u001b[43m)\u001b[49m\n\u001b[0;32m    803\u001b[0m     \u001b[38;5;28;01mreturn\u001b[39;00m EagerResult(\n\u001b[0;32m    804\u001b[0m         keys\u001b[38;5;241m=\u001b[39m\u001b[38;5;28mlist\u001b[39m(\u001b[38;5;28mself\u001b[39m\u001b[38;5;241m.\u001b[39mkeys()),\n\u001b[0;32m    805\u001b[0m         records\u001b[38;5;241m=\u001b[39mUtil\u001b[38;5;241m.\u001b[39mlist(\u001b[38;5;28mself\u001b[39m),\n\u001b[0;32m    806\u001b[0m         summary\u001b[38;5;241m=\u001b[39m\u001b[38;5;28mself\u001b[39m\u001b[38;5;241m.\u001b[39mconsume(),\n\u001b[0;32m    807\u001b[0m     )\n",
      "File \u001b[1;32mc:\\Users\\Subrata Samanta\\miniconda3\\envs\\genai\\Lib\\site-packages\\neo4j\\_sync\\work\\result.py:459\u001b[0m, in \u001b[0;36mResult._buffer_all\u001b[1;34m(self)\u001b[0m\n\u001b[0;32m    458\u001b[0m \u001b[38;5;28;01mdef\u001b[39;00m\u001b[38;5;250m \u001b[39m\u001b[38;5;21m_buffer_all\u001b[39m(\u001b[38;5;28mself\u001b[39m):\n\u001b[1;32m--> 459\u001b[0m     \u001b[38;5;28;43mself\u001b[39;49m\u001b[38;5;241;43m.\u001b[39;49m\u001b[43m_buffer\u001b[49m\u001b[43m(\u001b[49m\u001b[43m)\u001b[49m\n",
      "File \u001b[1;32mc:\\Users\\Subrata Samanta\\miniconda3\\envs\\genai\\Lib\\site-packages\\neo4j\\_sync\\work\\result.py:448\u001b[0m, in \u001b[0;36mResult._buffer\u001b[1;34m(self, n)\u001b[0m\n\u001b[0;32m    446\u001b[0m     \u001b[38;5;28;01mreturn\u001b[39;00m\n\u001b[0;32m    447\u001b[0m record_buffer \u001b[38;5;241m=\u001b[39m deque()\n\u001b[1;32m--> 448\u001b[0m \u001b[43m\u001b[49m\u001b[38;5;28;43;01mfor\u001b[39;49;00m\u001b[43m \u001b[49m\u001b[43mrecord\u001b[49m\u001b[43m \u001b[49m\u001b[38;5;129;43;01min\u001b[39;49;00m\u001b[43m \u001b[49m\u001b[38;5;28;43mself\u001b[39;49m\u001b[43m:\u001b[49m\n\u001b[0;32m    449\u001b[0m \u001b[43m    \u001b[49m\u001b[43mrecord_buffer\u001b[49m\u001b[38;5;241;43m.\u001b[39;49m\u001b[43mappend\u001b[49m\u001b[43m(\u001b[49m\u001b[43mrecord\u001b[49m\u001b[43m)\u001b[49m\n\u001b[0;32m    450\u001b[0m \u001b[43m    \u001b[49m\u001b[38;5;28;43;01mif\u001b[39;49;00m\u001b[43m \u001b[49m\u001b[43mn\u001b[49m\u001b[43m \u001b[49m\u001b[38;5;129;43;01mis\u001b[39;49;00m\u001b[43m \u001b[49m\u001b[38;5;129;43;01mnot\u001b[39;49;00m\u001b[43m \u001b[49m\u001b[38;5;28;43;01mNone\u001b[39;49;00m\u001b[43m \u001b[49m\u001b[38;5;129;43;01mand\u001b[39;49;00m\u001b[43m \u001b[49m\u001b[38;5;28;43mlen\u001b[39;49m\u001b[43m(\u001b[49m\u001b[43mrecord_buffer\u001b[49m\u001b[43m)\u001b[49m\u001b[43m \u001b[49m\u001b[38;5;241;43m>\u001b[39;49m\u001b[38;5;241;43m=\u001b[39;49m\u001b[43m \u001b[49m\u001b[43mn\u001b[49m\u001b[43m:\u001b[49m\n",
      "File \u001b[1;32mc:\\Users\\Subrata Samanta\\miniconda3\\envs\\genai\\Lib\\site-packages\\neo4j\\_sync\\work\\result.py:398\u001b[0m, in \u001b[0;36mResult.__iter__\u001b[1;34m(self)\u001b[0m\n\u001b[0;32m    396\u001b[0m     \u001b[38;5;28;01myield\u001b[39;00m \u001b[38;5;28mself\u001b[39m\u001b[38;5;241m.\u001b[39m_record_buffer\u001b[38;5;241m.\u001b[39mpopleft()\n\u001b[0;32m    397\u001b[0m \u001b[38;5;28;01melif\u001b[39;00m \u001b[38;5;28mself\u001b[39m\u001b[38;5;241m.\u001b[39m_streaming:\n\u001b[1;32m--> 398\u001b[0m     \u001b[38;5;28;43mself\u001b[39;49m\u001b[38;5;241;43m.\u001b[39;49m\u001b[43m_connection\u001b[49m\u001b[38;5;241;43m.\u001b[39;49m\u001b[43mfetch_message\u001b[49m\u001b[43m(\u001b[49m\u001b[43m)\u001b[49m\n\u001b[0;32m    399\u001b[0m \u001b[38;5;28;01melif\u001b[39;00m \u001b[38;5;28mself\u001b[39m\u001b[38;5;241m.\u001b[39m_discarding:\n\u001b[0;32m    400\u001b[0m     \u001b[38;5;28mself\u001b[39m\u001b[38;5;241m.\u001b[39m_discard()\n",
      "File \u001b[1;32mc:\\Users\\Subrata Samanta\\miniconda3\\envs\\genai\\Lib\\site-packages\\neo4j\\_sync\\io\\_common.py:184\u001b[0m, in \u001b[0;36mConnectionErrorHandler.__getattr__.<locals>.outer.<locals>.inner\u001b[1;34m(*args, **kwargs)\u001b[0m\n\u001b[0;32m    182\u001b[0m \u001b[38;5;28;01mdef\u001b[39;00m\u001b[38;5;250m \u001b[39m\u001b[38;5;21minner\u001b[39m(\u001b[38;5;241m*\u001b[39margs, \u001b[38;5;241m*\u001b[39m\u001b[38;5;241m*\u001b[39mkwargs):\n\u001b[0;32m    183\u001b[0m     \u001b[38;5;28;01mtry\u001b[39;00m:\n\u001b[1;32m--> 184\u001b[0m         \u001b[43mfunc\u001b[49m\u001b[43m(\u001b[49m\u001b[38;5;241;43m*\u001b[39;49m\u001b[43margs\u001b[49m\u001b[43m,\u001b[49m\u001b[43m \u001b[49m\u001b[38;5;241;43m*\u001b[39;49m\u001b[38;5;241;43m*\u001b[39;49m\u001b[43mkwargs\u001b[49m\u001b[43m)\u001b[49m\n\u001b[0;32m    185\u001b[0m     \u001b[38;5;28;01mexcept\u001b[39;00m (Neo4jError, ServiceUnavailable, SessionExpired) \u001b[38;5;28;01mas\u001b[39;00m exc:\n\u001b[0;32m    186\u001b[0m         \u001b[38;5;28;01massert\u001b[39;00m \u001b[38;5;129;01mnot\u001b[39;00m asyncio\u001b[38;5;241m.\u001b[39miscoroutinefunction(\u001b[38;5;28mself\u001b[39m\u001b[38;5;241m.\u001b[39m__on_error)\n",
      "File \u001b[1;32mc:\\Users\\Subrata Samanta\\miniconda3\\envs\\genai\\Lib\\site-packages\\neo4j\\_sync\\io\\_bolt.py:864\u001b[0m, in \u001b[0;36mBolt.fetch_message\u001b[1;34m(self)\u001b[0m\n\u001b[0;32m    860\u001b[0m \u001b[38;5;66;03m# Receive exactly one message\u001b[39;00m\n\u001b[0;32m    861\u001b[0m tag, fields \u001b[38;5;241m=\u001b[39m \u001b[38;5;28mself\u001b[39m\u001b[38;5;241m.\u001b[39minbox\u001b[38;5;241m.\u001b[39mpop(\n\u001b[0;32m    862\u001b[0m     hydration_hooks\u001b[38;5;241m=\u001b[39m\u001b[38;5;28mself\u001b[39m\u001b[38;5;241m.\u001b[39mresponses[\u001b[38;5;241m0\u001b[39m]\u001b[38;5;241m.\u001b[39mhydration_hooks\n\u001b[0;32m    863\u001b[0m )\n\u001b[1;32m--> 864\u001b[0m res \u001b[38;5;241m=\u001b[39m \u001b[38;5;28;43mself\u001b[39;49m\u001b[38;5;241;43m.\u001b[39;49m\u001b[43m_process_message\u001b[49m\u001b[43m(\u001b[49m\u001b[43mtag\u001b[49m\u001b[43m,\u001b[49m\u001b[43m \u001b[49m\u001b[43mfields\u001b[49m\u001b[43m)\u001b[49m\n\u001b[0;32m    865\u001b[0m \u001b[38;5;28mself\u001b[39m\u001b[38;5;241m.\u001b[39midle_since \u001b[38;5;241m=\u001b[39m monotonic()\n\u001b[0;32m    866\u001b[0m \u001b[38;5;28;01mreturn\u001b[39;00m res\n",
      "File \u001b[1;32mc:\\Users\\Subrata Samanta\\miniconda3\\envs\\genai\\Lib\\site-packages\\neo4j\\_sync\\io\\_bolt5.py:1208\u001b[0m, in \u001b[0;36mBolt5x7._process_message\u001b[1;34m(self, tag, fields)\u001b[0m\n\u001b[0;32m   1206\u001b[0m \u001b[38;5;28mself\u001b[39m\u001b[38;5;241m.\u001b[39m_enrich_error_diagnostic_record(summary_metadata)\n\u001b[0;32m   1207\u001b[0m \u001b[38;5;28;01mtry\u001b[39;00m:\n\u001b[1;32m-> 1208\u001b[0m     \u001b[43mresponse\u001b[49m\u001b[38;5;241;43m.\u001b[39;49m\u001b[43mon_failure\u001b[49m\u001b[43m(\u001b[49m\u001b[43msummary_metadata\u001b[49m\u001b[43m \u001b[49m\u001b[38;5;129;43;01mor\u001b[39;49;00m\u001b[43m \u001b[49m\u001b[43m{\u001b[49m\u001b[43m}\u001b[49m\u001b[43m)\u001b[49m\n\u001b[0;32m   1209\u001b[0m \u001b[38;5;28;01mexcept\u001b[39;00m (ServiceUnavailable, DatabaseUnavailable):\n\u001b[0;32m   1210\u001b[0m     \u001b[38;5;28;01mif\u001b[39;00m \u001b[38;5;28mself\u001b[39m\u001b[38;5;241m.\u001b[39mpool:\n",
      "File \u001b[1;32mc:\\Users\\Subrata Samanta\\miniconda3\\envs\\genai\\Lib\\site-packages\\neo4j\\_sync\\io\\_common.py:254\u001b[0m, in \u001b[0;36mResponse.on_failure\u001b[1;34m(self, metadata)\u001b[0m\n\u001b[0;32m    252\u001b[0m handler \u001b[38;5;241m=\u001b[39m \u001b[38;5;28mself\u001b[39m\u001b[38;5;241m.\u001b[39mhandlers\u001b[38;5;241m.\u001b[39mget(\u001b[38;5;124m\"\u001b[39m\u001b[38;5;124mon_summary\u001b[39m\u001b[38;5;124m\"\u001b[39m)\n\u001b[0;32m    253\u001b[0m Util\u001b[38;5;241m.\u001b[39mcallback(handler)\n\u001b[1;32m--> 254\u001b[0m \u001b[38;5;28;01mraise\u001b[39;00m \u001b[38;5;28mself\u001b[39m\u001b[38;5;241m.\u001b[39m_hydrate_error(metadata)\n",
      "\u001b[1;31mClientError\u001b[0m: {code: Neo.ClientError.Procedure.ProcedureCallFailed} {message: Failed to invoke procedure `db.index.fulltext.queryNodes`: Caused by: java.lang.IllegalArgumentException: There is no such fulltext schema index: entity}"
     ]
    }
   ],
   "source": [
    "print(structured_retriever(\"tell me the growth rate of apple in 2024\"))\n"
   ]
  },
  {
   "cell_type": "code",
   "execution_count": 65,
   "id": "66469ea2",
   "metadata": {},
   "outputs": [],
   "source": [
    "# Final retrieval step\n",
    "def retriever(question: str):\n",
    "    print(f\"Search query: {question}\")\n",
    "    structured_data = structured_retriever(question)\n",
    "    unstructured_data = [\n",
    "        el.page_content for el in vector_index.similarity_search(question)\n",
    "    ]\n",
    "    final_data = f\"\"\"Structured data:\n",
    "{structured_data}\n",
    "Unstructured data:\n",
    "{\"#Document \". join(unstructured_data)}\n",
    "    \"\"\"\n",
    "    print(f\"\\nFinal Data::: ==>{final_data}\")\n",
    "    return final_data"
   ]
  },
  {
   "cell_type": "code",
   "execution_count": 66,
   "id": "4a14226b",
   "metadata": {},
   "outputs": [],
   "source": [
    "# Define the RAG chain\n",
    "# Condense a chat history and follow-up question into a standalone question\n",
    "_template = \"\"\"Given the following conversation and a follow up question, rephrase the follow up question to be a standalone question,\n",
    "in its original language.\n",
    "Chat History:\n",
    "{chat_history}\n",
    "Follow Up Input: {question}\n",
    "Standalone question:\"\"\"  # noqa: E501\n",
    "CONDENSE_QUESTION_PROMPT = PromptTemplate.from_template(_template)\n"
   ]
  },
  {
   "cell_type": "code",
   "execution_count": 67,
   "id": "7f8603e8",
   "metadata": {},
   "outputs": [],
   "source": [
    "def _format_chat_history(chat_history: List[Tuple[str, str]]) -> List:\n",
    "    buffer = []\n",
    "    for human, ai in chat_history:\n",
    "        buffer.append(HumanMessage(content=human))\n",
    "        buffer.append(AIMessage(content=ai))\n",
    "    return buffer\n",
    "\n",
    "\n",
    "_search_query = RunnableBranch(\n",
    "    # If input includes chat_history, we condense it with the follow-up question\n",
    "    (\n",
    "        RunnableLambda(lambda x: bool(x.get(\"chat_history\"))).with_config(\n",
    "            run_name=\"HasChatHistoryCheck\"\n",
    "        ),  # Condense follow-up question and chat into a standalone_question\n",
    "        RunnablePassthrough.assign(\n",
    "            chat_history=lambda x: _format_chat_history(x[\"chat_history\"])\n",
    "        )\n",
    "        | CONDENSE_QUESTION_PROMPT\n",
    "        | chat\n",
    "        | StrOutputParser(),\n",
    "    ),\n",
    "    # Else, we have no chat history, so just pass through the question\n",
    "    RunnableLambda(lambda x: x[\"question\"]),\n",
    ")\n"
   ]
  },
  {
   "cell_type": "code",
   "execution_count": 68,
   "id": "0fd731cb",
   "metadata": {},
   "outputs": [],
   "source": [
    "template = \"\"\"Answer the question based only on the following context:\n",
    "{context}\n",
    "\n",
    "Question: {question}\n",
    "Use natural language and be concise.\n",
    "Answer:\"\"\"\n",
    "prompt = ChatPromptTemplate.from_template(template)\n",
    "\n",
    "chain = (\n",
    "    RunnableParallel(\n",
    "        {\n",
    "            \"context\": _search_query | retriever,\n",
    "            \"question\": RunnablePassthrough(),\n",
    "        }\n",
    "    )\n",
    "    | prompt\n",
    "    | chat\n",
    "    | StrOutputParser()\n",
    ")"
   ]
  },
  {
   "cell_type": "code",
   "execution_count": 69,
   "id": "c810f96d",
   "metadata": {},
   "outputs": [
    {
     "name": "stdout",
     "output_type": "stream",
     "text": [
      "Search query: tell me the growth rate of apple in 2024?\n",
      " Getting Entity: apple\n"
     ]
    },
    {
     "ename": "ClientError",
     "evalue": "{code: Neo.ClientError.Procedure.ProcedureCallFailed} {message: Failed to invoke procedure `db.index.fulltext.queryNodes`: Caused by: java.lang.IllegalArgumentException: There is no such fulltext schema index: entity}",
     "output_type": "error",
     "traceback": [
      "\u001b[1;31m---------------------------------------------------------------------------\u001b[0m",
      "\u001b[1;31mGqlError\u001b[0m                                  Traceback (most recent call last)",
      "\u001b[1;31mGqlError\u001b[0m: {gql_status: 52U00} {gql_status_description: error: procedure exception - custom procedure execution error cause. Execution of the procedure db.index.fulltext.queryNodes() failed due to java.lang.IllegalArgumentException: There is no such fulltext schema index: entity.} {message: 52U00: Execution of the procedure db.index.fulltext.queryNodes() failed due to java.lang.IllegalArgumentException: There is no such fulltext schema index: entity.} {diagnostic_record: {'OPERATION': '', 'OPERATION_CODE': '0', 'CURRENT_SCHEMA': '/'}} {raw_classification: None}",
      "\nThe above exception was the direct cause of the following exception:\n",
      "\u001b[1;31mClientError\u001b[0m                               Traceback (most recent call last)",
      "Cell \u001b[1;32mIn[69], line 1\u001b[0m\n\u001b[1;32m----> 1\u001b[0m res_hist \u001b[38;5;241m=\u001b[39m \u001b[43mchain\u001b[49m\u001b[38;5;241;43m.\u001b[39;49m\u001b[43minvoke\u001b[49m\u001b[43m(\u001b[49m\n\u001b[0;32m      2\u001b[0m \u001b[43m    \u001b[49m\u001b[43m{\u001b[49m\n\u001b[0;32m      3\u001b[0m \u001b[43m        \u001b[49m\u001b[38;5;124;43m\"\u001b[39;49m\u001b[38;5;124;43mquestion\u001b[39;49m\u001b[38;5;124;43m\"\u001b[39;49m\u001b[43m:\u001b[49m\u001b[43m \u001b[49m\u001b[38;5;124;43m\"\u001b[39;49m\u001b[38;5;124;43mtell me the growth rate of apple in 2024?\u001b[39;49m\u001b[38;5;124;43m\"\u001b[39;49m\u001b[43m,\u001b[49m\n\u001b[0;32m      4\u001b[0m \u001b[43m        \u001b[49m\u001b[38;5;124;43m\"\u001b[39;49m\u001b[38;5;124;43mchat_history\u001b[39;49m\u001b[38;5;124;43m\"\u001b[39;49m\u001b[43m:\u001b[49m\u001b[43m \u001b[49m\u001b[43m[\u001b[49m\n\u001b[0;32m      5\u001b[0m \n\u001b[0;32m      6\u001b[0m \u001b[43m        \u001b[49m\u001b[43m]\u001b[49m\u001b[43m,\u001b[49m\n\u001b[0;32m      7\u001b[0m \u001b[43m    \u001b[49m\u001b[43m}\u001b[49m\n\u001b[0;32m      8\u001b[0m \u001b[43m)\u001b[49m\n\u001b[0;32m     10\u001b[0m \u001b[38;5;28mprint\u001b[39m(\u001b[38;5;124mf\u001b[39m\u001b[38;5;124m\"\u001b[39m\u001b[38;5;130;01m\\n\u001b[39;00m\u001b[38;5;124m === \u001b[39m\u001b[38;5;132;01m{\u001b[39;00mres_hist\u001b[38;5;132;01m}\u001b[39;00m\u001b[38;5;130;01m\\n\u001b[39;00m\u001b[38;5;130;01m\\n\u001b[39;00m\u001b[38;5;124m\"\u001b[39m)\n",
      "File \u001b[1;32mc:\\Users\\Subrata Samanta\\miniconda3\\envs\\genai\\Lib\\site-packages\\langchain_core\\runnables\\base.py:3023\u001b[0m, in \u001b[0;36mRunnableSequence.invoke\u001b[1;34m(self, input, config, **kwargs)\u001b[0m\n\u001b[0;32m   3021\u001b[0m \u001b[38;5;28;01mwith\u001b[39;00m set_config_context(config) \u001b[38;5;28;01mas\u001b[39;00m context:\n\u001b[0;32m   3022\u001b[0m     \u001b[38;5;28;01mif\u001b[39;00m i \u001b[38;5;241m==\u001b[39m \u001b[38;5;241m0\u001b[39m:\n\u001b[1;32m-> 3023\u001b[0m         \u001b[38;5;28minput\u001b[39m \u001b[38;5;241m=\u001b[39m \u001b[43mcontext\u001b[49m\u001b[38;5;241;43m.\u001b[39;49m\u001b[43mrun\u001b[49m\u001b[43m(\u001b[49m\u001b[43mstep\u001b[49m\u001b[38;5;241;43m.\u001b[39;49m\u001b[43minvoke\u001b[49m\u001b[43m,\u001b[49m\u001b[43m \u001b[49m\u001b[38;5;28;43minput\u001b[39;49m\u001b[43m,\u001b[49m\u001b[43m \u001b[49m\u001b[43mconfig\u001b[49m\u001b[43m,\u001b[49m\u001b[43m \u001b[49m\u001b[38;5;241;43m*\u001b[39;49m\u001b[38;5;241;43m*\u001b[39;49m\u001b[43mkwargs\u001b[49m\u001b[43m)\u001b[49m\n\u001b[0;32m   3024\u001b[0m     \u001b[38;5;28;01melse\u001b[39;00m:\n\u001b[0;32m   3025\u001b[0m         \u001b[38;5;28minput\u001b[39m \u001b[38;5;241m=\u001b[39m context\u001b[38;5;241m.\u001b[39mrun(step\u001b[38;5;241m.\u001b[39minvoke, \u001b[38;5;28minput\u001b[39m, config)\n",
      "File \u001b[1;32mc:\\Users\\Subrata Samanta\\miniconda3\\envs\\genai\\Lib\\site-packages\\langchain_core\\runnables\\base.py:3728\u001b[0m, in \u001b[0;36mRunnableParallel.invoke\u001b[1;34m(self, input, config, **kwargs)\u001b[0m\n\u001b[0;32m   3723\u001b[0m     \u001b[38;5;28;01mwith\u001b[39;00m get_executor_for_config(config) \u001b[38;5;28;01mas\u001b[39;00m executor:\n\u001b[0;32m   3724\u001b[0m         futures \u001b[38;5;241m=\u001b[39m [\n\u001b[0;32m   3725\u001b[0m             executor\u001b[38;5;241m.\u001b[39msubmit(_invoke_step, step, \u001b[38;5;28minput\u001b[39m, config, key)\n\u001b[0;32m   3726\u001b[0m             \u001b[38;5;28;01mfor\u001b[39;00m key, step \u001b[38;5;129;01min\u001b[39;00m steps\u001b[38;5;241m.\u001b[39mitems()\n\u001b[0;32m   3727\u001b[0m         ]\n\u001b[1;32m-> 3728\u001b[0m         output \u001b[38;5;241m=\u001b[39m \u001b[43m{\u001b[49m\u001b[43mkey\u001b[49m\u001b[43m:\u001b[49m\u001b[43m \u001b[49m\u001b[43mfuture\u001b[49m\u001b[38;5;241;43m.\u001b[39;49m\u001b[43mresult\u001b[49m\u001b[43m(\u001b[49m\u001b[43m)\u001b[49m\u001b[43m \u001b[49m\u001b[38;5;28;43;01mfor\u001b[39;49;00m\u001b[43m \u001b[49m\u001b[43mkey\u001b[49m\u001b[43m,\u001b[49m\u001b[43m \u001b[49m\u001b[43mfuture\u001b[49m\u001b[43m \u001b[49m\u001b[38;5;129;43;01min\u001b[39;49;00m\u001b[43m \u001b[49m\u001b[38;5;28;43mzip\u001b[39;49m\u001b[43m(\u001b[49m\u001b[43msteps\u001b[49m\u001b[43m,\u001b[49m\u001b[43m \u001b[49m\u001b[43mfutures\u001b[49m\u001b[43m)\u001b[49m\u001b[43m}\u001b[49m\n\u001b[0;32m   3729\u001b[0m \u001b[38;5;66;03m# finish the root run\u001b[39;00m\n\u001b[0;32m   3730\u001b[0m \u001b[38;5;28;01mexcept\u001b[39;00m \u001b[38;5;167;01mBaseException\u001b[39;00m \u001b[38;5;28;01mas\u001b[39;00m e:\n",
      "File \u001b[1;32mc:\\Users\\Subrata Samanta\\miniconda3\\envs\\genai\\Lib\\site-packages\\langchain_core\\runnables\\base.py:3728\u001b[0m, in \u001b[0;36m<dictcomp>\u001b[1;34m(.0)\u001b[0m\n\u001b[0;32m   3723\u001b[0m     \u001b[38;5;28;01mwith\u001b[39;00m get_executor_for_config(config) \u001b[38;5;28;01mas\u001b[39;00m executor:\n\u001b[0;32m   3724\u001b[0m         futures \u001b[38;5;241m=\u001b[39m [\n\u001b[0;32m   3725\u001b[0m             executor\u001b[38;5;241m.\u001b[39msubmit(_invoke_step, step, \u001b[38;5;28minput\u001b[39m, config, key)\n\u001b[0;32m   3726\u001b[0m             \u001b[38;5;28;01mfor\u001b[39;00m key, step \u001b[38;5;129;01min\u001b[39;00m steps\u001b[38;5;241m.\u001b[39mitems()\n\u001b[0;32m   3727\u001b[0m         ]\n\u001b[1;32m-> 3728\u001b[0m         output \u001b[38;5;241m=\u001b[39m {key: \u001b[43mfuture\u001b[49m\u001b[38;5;241;43m.\u001b[39;49m\u001b[43mresult\u001b[49m\u001b[43m(\u001b[49m\u001b[43m)\u001b[49m \u001b[38;5;28;01mfor\u001b[39;00m key, future \u001b[38;5;129;01min\u001b[39;00m \u001b[38;5;28mzip\u001b[39m(steps, futures)}\n\u001b[0;32m   3729\u001b[0m \u001b[38;5;66;03m# finish the root run\u001b[39;00m\n\u001b[0;32m   3730\u001b[0m \u001b[38;5;28;01mexcept\u001b[39;00m \u001b[38;5;167;01mBaseException\u001b[39;00m \u001b[38;5;28;01mas\u001b[39;00m e:\n",
      "File \u001b[1;32mc:\\Users\\Subrata Samanta\\miniconda3\\envs\\genai\\Lib\\concurrent\\futures\\_base.py:456\u001b[0m, in \u001b[0;36mFuture.result\u001b[1;34m(self, timeout)\u001b[0m\n\u001b[0;32m    454\u001b[0m     \u001b[38;5;28;01mraise\u001b[39;00m CancelledError()\n\u001b[0;32m    455\u001b[0m \u001b[38;5;28;01melif\u001b[39;00m \u001b[38;5;28mself\u001b[39m\u001b[38;5;241m.\u001b[39m_state \u001b[38;5;241m==\u001b[39m FINISHED:\n\u001b[1;32m--> 456\u001b[0m     \u001b[38;5;28;01mreturn\u001b[39;00m \u001b[38;5;28;43mself\u001b[39;49m\u001b[38;5;241;43m.\u001b[39;49m\u001b[43m__get_result\u001b[49m\u001b[43m(\u001b[49m\u001b[43m)\u001b[49m\n\u001b[0;32m    457\u001b[0m \u001b[38;5;28;01melse\u001b[39;00m:\n\u001b[0;32m    458\u001b[0m     \u001b[38;5;28;01mraise\u001b[39;00m \u001b[38;5;167;01mTimeoutError\u001b[39;00m()\n",
      "File \u001b[1;32mc:\\Users\\Subrata Samanta\\miniconda3\\envs\\genai\\Lib\\concurrent\\futures\\_base.py:401\u001b[0m, in \u001b[0;36mFuture.__get_result\u001b[1;34m(self)\u001b[0m\n\u001b[0;32m    399\u001b[0m \u001b[38;5;28;01mif\u001b[39;00m \u001b[38;5;28mself\u001b[39m\u001b[38;5;241m.\u001b[39m_exception:\n\u001b[0;32m    400\u001b[0m     \u001b[38;5;28;01mtry\u001b[39;00m:\n\u001b[1;32m--> 401\u001b[0m         \u001b[38;5;28;01mraise\u001b[39;00m \u001b[38;5;28mself\u001b[39m\u001b[38;5;241m.\u001b[39m_exception\n\u001b[0;32m    402\u001b[0m     \u001b[38;5;28;01mfinally\u001b[39;00m:\n\u001b[0;32m    403\u001b[0m         \u001b[38;5;66;03m# Break a reference cycle with the exception in self._exception\u001b[39;00m\n\u001b[0;32m    404\u001b[0m         \u001b[38;5;28mself\u001b[39m \u001b[38;5;241m=\u001b[39m \u001b[38;5;28;01mNone\u001b[39;00m\n",
      "File \u001b[1;32mc:\\Users\\Subrata Samanta\\miniconda3\\envs\\genai\\Lib\\concurrent\\futures\\thread.py:58\u001b[0m, in \u001b[0;36m_WorkItem.run\u001b[1;34m(self)\u001b[0m\n\u001b[0;32m     55\u001b[0m     \u001b[38;5;28;01mreturn\u001b[39;00m\n\u001b[0;32m     57\u001b[0m \u001b[38;5;28;01mtry\u001b[39;00m:\n\u001b[1;32m---> 58\u001b[0m     result \u001b[38;5;241m=\u001b[39m \u001b[38;5;28;43mself\u001b[39;49m\u001b[38;5;241;43m.\u001b[39;49m\u001b[43mfn\u001b[49m\u001b[43m(\u001b[49m\u001b[38;5;241;43m*\u001b[39;49m\u001b[38;5;28;43mself\u001b[39;49m\u001b[38;5;241;43m.\u001b[39;49m\u001b[43margs\u001b[49m\u001b[43m,\u001b[49m\u001b[43m \u001b[49m\u001b[38;5;241;43m*\u001b[39;49m\u001b[38;5;241;43m*\u001b[39;49m\u001b[38;5;28;43mself\u001b[39;49m\u001b[38;5;241;43m.\u001b[39;49m\u001b[43mkwargs\u001b[49m\u001b[43m)\u001b[49m\n\u001b[0;32m     59\u001b[0m \u001b[38;5;28;01mexcept\u001b[39;00m \u001b[38;5;167;01mBaseException\u001b[39;00m \u001b[38;5;28;01mas\u001b[39;00m exc:\n\u001b[0;32m     60\u001b[0m     \u001b[38;5;28mself\u001b[39m\u001b[38;5;241m.\u001b[39mfuture\u001b[38;5;241m.\u001b[39mset_exception(exc)\n",
      "File \u001b[1;32mc:\\Users\\Subrata Samanta\\miniconda3\\envs\\genai\\Lib\\site-packages\\langchain_core\\runnables\\base.py:3712\u001b[0m, in \u001b[0;36mRunnableParallel.invoke.<locals>._invoke_step\u001b[1;34m(step, input, config, key)\u001b[0m\n\u001b[0;32m   3706\u001b[0m child_config \u001b[38;5;241m=\u001b[39m patch_config(\n\u001b[0;32m   3707\u001b[0m     config,\n\u001b[0;32m   3708\u001b[0m     \u001b[38;5;66;03m# mark each step as a child run\u001b[39;00m\n\u001b[0;32m   3709\u001b[0m     callbacks\u001b[38;5;241m=\u001b[39mrun_manager\u001b[38;5;241m.\u001b[39mget_child(\u001b[38;5;124mf\u001b[39m\u001b[38;5;124m\"\u001b[39m\u001b[38;5;124mmap:key:\u001b[39m\u001b[38;5;132;01m{\u001b[39;00mkey\u001b[38;5;132;01m}\u001b[39;00m\u001b[38;5;124m\"\u001b[39m),\n\u001b[0;32m   3710\u001b[0m )\n\u001b[0;32m   3711\u001b[0m \u001b[38;5;28;01mwith\u001b[39;00m set_config_context(child_config) \u001b[38;5;28;01mas\u001b[39;00m context:\n\u001b[1;32m-> 3712\u001b[0m     \u001b[38;5;28;01mreturn\u001b[39;00m context\u001b[38;5;241m.\u001b[39mrun(\n\u001b[0;32m   3713\u001b[0m         step\u001b[38;5;241m.\u001b[39minvoke,\n\u001b[0;32m   3714\u001b[0m         \u001b[38;5;28minput\u001b[39m,\n\u001b[0;32m   3715\u001b[0m         child_config,\n\u001b[0;32m   3716\u001b[0m     )\n",
      "File \u001b[1;32mc:\\Users\\Subrata Samanta\\miniconda3\\envs\\genai\\Lib\\site-packages\\langchain_core\\runnables\\base.py:3025\u001b[0m, in \u001b[0;36mRunnableSequence.invoke\u001b[1;34m(self, input, config, **kwargs)\u001b[0m\n\u001b[0;32m   3023\u001b[0m                 \u001b[38;5;28minput\u001b[39m \u001b[38;5;241m=\u001b[39m context\u001b[38;5;241m.\u001b[39mrun(step\u001b[38;5;241m.\u001b[39minvoke, \u001b[38;5;28minput\u001b[39m, config, \u001b[38;5;241m*\u001b[39m\u001b[38;5;241m*\u001b[39mkwargs)\n\u001b[0;32m   3024\u001b[0m             \u001b[38;5;28;01melse\u001b[39;00m:\n\u001b[1;32m-> 3025\u001b[0m                 \u001b[38;5;28minput\u001b[39m \u001b[38;5;241m=\u001b[39m context\u001b[38;5;241m.\u001b[39mrun(step\u001b[38;5;241m.\u001b[39minvoke, \u001b[38;5;28minput\u001b[39m, config)\n\u001b[0;32m   3026\u001b[0m \u001b[38;5;66;03m# finish the root run\u001b[39;00m\n\u001b[0;32m   3027\u001b[0m \u001b[38;5;28;01mexcept\u001b[39;00m \u001b[38;5;167;01mBaseException\u001b[39;00m \u001b[38;5;28;01mas\u001b[39;00m e:\n",
      "File \u001b[1;32mc:\\Users\\Subrata Samanta\\miniconda3\\envs\\genai\\Lib\\site-packages\\langchain_core\\runnables\\base.py:4719\u001b[0m, in \u001b[0;36mRunnableLambda.invoke\u001b[1;34m(self, input, config, **kwargs)\u001b[0m\n\u001b[0;32m   4705\u001b[0m \u001b[38;5;250m\u001b[39m\u001b[38;5;124;03m\"\"\"Invoke this Runnable synchronously.\u001b[39;00m\n\u001b[0;32m   4706\u001b[0m \n\u001b[0;32m   4707\u001b[0m \u001b[38;5;124;03mArgs:\u001b[39;00m\n\u001b[1;32m   (...)\u001b[0m\n\u001b[0;32m   4716\u001b[0m \u001b[38;5;124;03m    TypeError: If the Runnable is a coroutine function.\u001b[39;00m\n\u001b[0;32m   4717\u001b[0m \u001b[38;5;124;03m\"\"\"\u001b[39;00m\n\u001b[0;32m   4718\u001b[0m \u001b[38;5;28;01mif\u001b[39;00m \u001b[38;5;28mhasattr\u001b[39m(\u001b[38;5;28mself\u001b[39m, \u001b[38;5;124m\"\u001b[39m\u001b[38;5;124mfunc\u001b[39m\u001b[38;5;124m\"\u001b[39m):\n\u001b[1;32m-> 4719\u001b[0m     \u001b[38;5;28;01mreturn\u001b[39;00m \u001b[38;5;28;43mself\u001b[39;49m\u001b[38;5;241;43m.\u001b[39;49m\u001b[43m_call_with_config\u001b[49m\u001b[43m(\u001b[49m\n\u001b[0;32m   4720\u001b[0m \u001b[43m        \u001b[49m\u001b[38;5;28;43mself\u001b[39;49m\u001b[38;5;241;43m.\u001b[39;49m\u001b[43m_invoke\u001b[49m\u001b[43m,\u001b[49m\n\u001b[0;32m   4721\u001b[0m \u001b[43m        \u001b[49m\u001b[38;5;28;43minput\u001b[39;49m\u001b[43m,\u001b[49m\n\u001b[0;32m   4722\u001b[0m \u001b[43m        \u001b[49m\u001b[38;5;28;43mself\u001b[39;49m\u001b[38;5;241;43m.\u001b[39;49m\u001b[43m_config\u001b[49m\u001b[43m(\u001b[49m\u001b[43mconfig\u001b[49m\u001b[43m,\u001b[49m\u001b[43m \u001b[49m\u001b[38;5;28;43mself\u001b[39;49m\u001b[38;5;241;43m.\u001b[39;49m\u001b[43mfunc\u001b[49m\u001b[43m)\u001b[49m\u001b[43m,\u001b[49m\n\u001b[0;32m   4723\u001b[0m \u001b[43m        \u001b[49m\u001b[38;5;241;43m*\u001b[39;49m\u001b[38;5;241;43m*\u001b[39;49m\u001b[43mkwargs\u001b[49m\u001b[43m,\u001b[49m\n\u001b[0;32m   4724\u001b[0m \u001b[43m    \u001b[49m\u001b[43m)\u001b[49m\n\u001b[0;32m   4725\u001b[0m \u001b[38;5;28;01melse\u001b[39;00m:\n\u001b[0;32m   4726\u001b[0m     msg \u001b[38;5;241m=\u001b[39m (\n\u001b[0;32m   4727\u001b[0m         \u001b[38;5;124m\"\u001b[39m\u001b[38;5;124mCannot invoke a coroutine function synchronously.\u001b[39m\u001b[38;5;124m\"\u001b[39m\n\u001b[0;32m   4728\u001b[0m         \u001b[38;5;124m\"\u001b[39m\u001b[38;5;124mUse `ainvoke` instead.\u001b[39m\u001b[38;5;124m\"\u001b[39m\n\u001b[0;32m   4729\u001b[0m     )\n",
      "File \u001b[1;32mc:\\Users\\Subrata Samanta\\miniconda3\\envs\\genai\\Lib\\site-packages\\langchain_core\\runnables\\base.py:1925\u001b[0m, in \u001b[0;36mRunnable._call_with_config\u001b[1;34m(self, func, input, config, run_type, serialized, **kwargs)\u001b[0m\n\u001b[0;32m   1921\u001b[0m     child_config \u001b[38;5;241m=\u001b[39m patch_config(config, callbacks\u001b[38;5;241m=\u001b[39mrun_manager\u001b[38;5;241m.\u001b[39mget_child())\n\u001b[0;32m   1922\u001b[0m     \u001b[38;5;28;01mwith\u001b[39;00m set_config_context(child_config) \u001b[38;5;28;01mas\u001b[39;00m context:\n\u001b[0;32m   1923\u001b[0m         output \u001b[38;5;241m=\u001b[39m cast(\n\u001b[0;32m   1924\u001b[0m             Output,\n\u001b[1;32m-> 1925\u001b[0m             \u001b[43mcontext\u001b[49m\u001b[38;5;241;43m.\u001b[39;49m\u001b[43mrun\u001b[49m\u001b[43m(\u001b[49m\n\u001b[0;32m   1926\u001b[0m \u001b[43m                \u001b[49m\u001b[43mcall_func_with_variable_args\u001b[49m\u001b[43m,\u001b[49m\u001b[43m  \u001b[49m\u001b[38;5;66;43;03m# type: ignore[arg-type]\u001b[39;49;00m\n\u001b[0;32m   1927\u001b[0m \u001b[43m                \u001b[49m\u001b[43mfunc\u001b[49m\u001b[43m,\u001b[49m\u001b[43m  \u001b[49m\u001b[38;5;66;43;03m# type: ignore[arg-type]\u001b[39;49;00m\n\u001b[0;32m   1928\u001b[0m \u001b[43m                \u001b[49m\u001b[38;5;28;43minput\u001b[39;49m\u001b[43m,\u001b[49m\u001b[43m  \u001b[49m\u001b[38;5;66;43;03m# type: ignore[arg-type]\u001b[39;49;00m\n\u001b[0;32m   1929\u001b[0m \u001b[43m                \u001b[49m\u001b[43mconfig\u001b[49m\u001b[43m,\u001b[49m\n\u001b[0;32m   1930\u001b[0m \u001b[43m                \u001b[49m\u001b[43mrun_manager\u001b[49m\u001b[43m,\u001b[49m\n\u001b[0;32m   1931\u001b[0m \u001b[43m                \u001b[49m\u001b[38;5;241;43m*\u001b[39;49m\u001b[38;5;241;43m*\u001b[39;49m\u001b[43mkwargs\u001b[49m\u001b[43m,\u001b[49m\n\u001b[0;32m   1932\u001b[0m \u001b[43m            \u001b[49m\u001b[43m)\u001b[49m,\n\u001b[0;32m   1933\u001b[0m         )\n\u001b[0;32m   1934\u001b[0m \u001b[38;5;28;01mexcept\u001b[39;00m \u001b[38;5;167;01mBaseException\u001b[39;00m \u001b[38;5;28;01mas\u001b[39;00m e:\n\u001b[0;32m   1935\u001b[0m     run_manager\u001b[38;5;241m.\u001b[39mon_chain_error(e)\n",
      "File \u001b[1;32mc:\\Users\\Subrata Samanta\\miniconda3\\envs\\genai\\Lib\\site-packages\\langchain_core\\runnables\\config.py:430\u001b[0m, in \u001b[0;36mcall_func_with_variable_args\u001b[1;34m(func, input, config, run_manager, **kwargs)\u001b[0m\n\u001b[0;32m    428\u001b[0m \u001b[38;5;28;01mif\u001b[39;00m run_manager \u001b[38;5;129;01mis\u001b[39;00m \u001b[38;5;129;01mnot\u001b[39;00m \u001b[38;5;28;01mNone\u001b[39;00m \u001b[38;5;129;01mand\u001b[39;00m accepts_run_manager(func):\n\u001b[0;32m    429\u001b[0m     kwargs[\u001b[38;5;124m\"\u001b[39m\u001b[38;5;124mrun_manager\u001b[39m\u001b[38;5;124m\"\u001b[39m] \u001b[38;5;241m=\u001b[39m run_manager\n\u001b[1;32m--> 430\u001b[0m \u001b[38;5;28;01mreturn\u001b[39;00m \u001b[43mfunc\u001b[49m\u001b[43m(\u001b[49m\u001b[38;5;28;43minput\u001b[39;49m\u001b[43m,\u001b[49m\u001b[43m \u001b[49m\u001b[38;5;241;43m*\u001b[39;49m\u001b[38;5;241;43m*\u001b[39;49m\u001b[43mkwargs\u001b[49m\u001b[43m)\u001b[49m\n",
      "File \u001b[1;32mc:\\Users\\Subrata Samanta\\miniconda3\\envs\\genai\\Lib\\site-packages\\langchain_core\\runnables\\base.py:4573\u001b[0m, in \u001b[0;36mRunnableLambda._invoke\u001b[1;34m(self, input, run_manager, config, **kwargs)\u001b[0m\n\u001b[0;32m   4571\u001b[0m                 output \u001b[38;5;241m=\u001b[39m chunk\n\u001b[0;32m   4572\u001b[0m \u001b[38;5;28;01melse\u001b[39;00m:\n\u001b[1;32m-> 4573\u001b[0m     output \u001b[38;5;241m=\u001b[39m \u001b[43mcall_func_with_variable_args\u001b[49m\u001b[43m(\u001b[49m\n\u001b[0;32m   4574\u001b[0m \u001b[43m        \u001b[49m\u001b[38;5;28;43mself\u001b[39;49m\u001b[38;5;241;43m.\u001b[39;49m\u001b[43mfunc\u001b[49m\u001b[43m,\u001b[49m\u001b[43m \u001b[49m\u001b[38;5;28;43minput\u001b[39;49m\u001b[43m,\u001b[49m\u001b[43m \u001b[49m\u001b[43mconfig\u001b[49m\u001b[43m,\u001b[49m\u001b[43m \u001b[49m\u001b[43mrun_manager\u001b[49m\u001b[43m,\u001b[49m\u001b[43m \u001b[49m\u001b[38;5;241;43m*\u001b[39;49m\u001b[38;5;241;43m*\u001b[39;49m\u001b[43mkwargs\u001b[49m\n\u001b[0;32m   4575\u001b[0m \u001b[43m    \u001b[49m\u001b[43m)\u001b[49m\n\u001b[0;32m   4576\u001b[0m \u001b[38;5;66;03m# If the output is a Runnable, invoke it\u001b[39;00m\n\u001b[0;32m   4577\u001b[0m \u001b[38;5;28;01mif\u001b[39;00m \u001b[38;5;28misinstance\u001b[39m(output, Runnable):\n",
      "File \u001b[1;32mc:\\Users\\Subrata Samanta\\miniconda3\\envs\\genai\\Lib\\site-packages\\langchain_core\\runnables\\config.py:430\u001b[0m, in \u001b[0;36mcall_func_with_variable_args\u001b[1;34m(func, input, config, run_manager, **kwargs)\u001b[0m\n\u001b[0;32m    428\u001b[0m \u001b[38;5;28;01mif\u001b[39;00m run_manager \u001b[38;5;129;01mis\u001b[39;00m \u001b[38;5;129;01mnot\u001b[39;00m \u001b[38;5;28;01mNone\u001b[39;00m \u001b[38;5;129;01mand\u001b[39;00m accepts_run_manager(func):\n\u001b[0;32m    429\u001b[0m     kwargs[\u001b[38;5;124m\"\u001b[39m\u001b[38;5;124mrun_manager\u001b[39m\u001b[38;5;124m\"\u001b[39m] \u001b[38;5;241m=\u001b[39m run_manager\n\u001b[1;32m--> 430\u001b[0m \u001b[38;5;28;01mreturn\u001b[39;00m \u001b[43mfunc\u001b[49m\u001b[43m(\u001b[49m\u001b[38;5;28;43minput\u001b[39;49m\u001b[43m,\u001b[49m\u001b[43m \u001b[49m\u001b[38;5;241;43m*\u001b[39;49m\u001b[38;5;241;43m*\u001b[39;49m\u001b[43mkwargs\u001b[49m\u001b[43m)\u001b[49m\n",
      "Cell \u001b[1;32mIn[65], line 4\u001b[0m, in \u001b[0;36mretriever\u001b[1;34m(question)\u001b[0m\n\u001b[0;32m      2\u001b[0m \u001b[38;5;28;01mdef\u001b[39;00m\u001b[38;5;250m \u001b[39m\u001b[38;5;21mretriever\u001b[39m(question: \u001b[38;5;28mstr\u001b[39m):\n\u001b[0;32m      3\u001b[0m     \u001b[38;5;28mprint\u001b[39m(\u001b[38;5;124mf\u001b[39m\u001b[38;5;124m\"\u001b[39m\u001b[38;5;124mSearch query: \u001b[39m\u001b[38;5;132;01m{\u001b[39;00mquestion\u001b[38;5;132;01m}\u001b[39;00m\u001b[38;5;124m\"\u001b[39m)\n\u001b[1;32m----> 4\u001b[0m     structured_data \u001b[38;5;241m=\u001b[39m \u001b[43mstructured_retriever\u001b[49m\u001b[43m(\u001b[49m\u001b[43mquestion\u001b[49m\u001b[43m)\u001b[49m\n\u001b[0;32m      5\u001b[0m     unstructured_data \u001b[38;5;241m=\u001b[39m [\n\u001b[0;32m      6\u001b[0m         el\u001b[38;5;241m.\u001b[39mpage_content \u001b[38;5;28;01mfor\u001b[39;00m el \u001b[38;5;129;01min\u001b[39;00m vector_index\u001b[38;5;241m.\u001b[39msimilarity_search(question)\n\u001b[0;32m      7\u001b[0m     ]\n\u001b[0;32m      8\u001b[0m     final_data \u001b[38;5;241m=\u001b[39m \u001b[38;5;124mf\u001b[39m\u001b[38;5;124m\"\"\"\u001b[39m\u001b[38;5;124mStructured data:\u001b[39m\n\u001b[0;32m      9\u001b[0m \u001b[38;5;132;01m{\u001b[39;00mstructured_data\u001b[38;5;132;01m}\u001b[39;00m\n\u001b[0;32m     10\u001b[0m \u001b[38;5;124mUnstructured data:\u001b[39m\n\u001b[0;32m     11\u001b[0m \u001b[38;5;132;01m{\u001b[39;00m\u001b[38;5;124m\"\u001b[39m\u001b[38;5;124m#Document \u001b[39m\u001b[38;5;124m\"\u001b[39m\u001b[38;5;241m.\u001b[39m\u001b[38;5;250m \u001b[39mjoin(unstructured_data)\u001b[38;5;132;01m}\u001b[39;00m\n\u001b[0;32m     12\u001b[0m \u001b[38;5;124m    \u001b[39m\u001b[38;5;124m\"\"\"\u001b[39m\n",
      "Cell \u001b[1;32mIn[62], line 10\u001b[0m, in \u001b[0;36mstructured_retriever\u001b[1;34m(question)\u001b[0m\n\u001b[0;32m      8\u001b[0m \u001b[38;5;28;01mfor\u001b[39;00m entity \u001b[38;5;129;01min\u001b[39;00m entities\u001b[38;5;241m.\u001b[39mnames:\n\u001b[0;32m      9\u001b[0m     \u001b[38;5;28mprint\u001b[39m(\u001b[38;5;124mf\u001b[39m\u001b[38;5;124m\"\u001b[39m\u001b[38;5;124m Getting Entity: \u001b[39m\u001b[38;5;132;01m{\u001b[39;00mentity\u001b[38;5;132;01m}\u001b[39;00m\u001b[38;5;124m\"\u001b[39m)\n\u001b[1;32m---> 10\u001b[0m     response \u001b[38;5;241m=\u001b[39m \u001b[43mkg\u001b[49m\u001b[38;5;241;43m.\u001b[39;49m\u001b[43mquery\u001b[49m\u001b[43m(\u001b[49m\n\u001b[0;32m     11\u001b[0m \u001b[38;5;250;43m        \u001b[39;49m\u001b[38;5;124;43;03m\"\"\"CALL db.index.fulltext.queryNodes('entity', $query, {limit:2})\u001b[39;49;00m\n\u001b[0;32m     12\u001b[0m \u001b[38;5;124;43;03m        YIELD node,score\u001b[39;49;00m\n\u001b[0;32m     13\u001b[0m \u001b[38;5;124;43;03m        CALL {\u001b[39;49;00m\n\u001b[0;32m     14\u001b[0m \u001b[38;5;124;43;03m          WITH node\u001b[39;49;00m\n\u001b[0;32m     15\u001b[0m \u001b[38;5;124;43;03m          MATCH (node)-[r:!MENTIONS]->(neighbor)\u001b[39;49;00m\n\u001b[0;32m     16\u001b[0m \u001b[38;5;124;43;03m          RETURN node.id + ' - ' + type(r) + ' -> ' + neighbor.id AS output\u001b[39;49;00m\n\u001b[0;32m     17\u001b[0m \u001b[38;5;124;43;03m          UNION ALL\u001b[39;49;00m\n\u001b[0;32m     18\u001b[0m \u001b[38;5;124;43;03m          WITH node\u001b[39;49;00m\n\u001b[0;32m     19\u001b[0m \u001b[38;5;124;43;03m          MATCH (node)<-[r:!MENTIONS]-(neighbor)\u001b[39;49;00m\n\u001b[0;32m     20\u001b[0m \u001b[38;5;124;43;03m          RETURN neighbor.id + ' - ' + type(r) + ' -> ' +  node.id AS output\u001b[39;49;00m\n\u001b[0;32m     21\u001b[0m \u001b[38;5;124;43;03m        }\u001b[39;49;00m\n\u001b[0;32m     22\u001b[0m \u001b[38;5;124;43;03m        RETURN output LIMIT 50\u001b[39;49;00m\n\u001b[0;32m     23\u001b[0m \u001b[38;5;124;43;03m        \"\"\"\u001b[39;49;00m\u001b[43m,\u001b[49m\n\u001b[0;32m     24\u001b[0m \u001b[43m        \u001b[49m\u001b[43m{\u001b[49m\u001b[38;5;124;43m\"\u001b[39;49m\u001b[38;5;124;43mquery\u001b[39;49m\u001b[38;5;124;43m\"\u001b[39;49m\u001b[43m:\u001b[49m\u001b[43m \u001b[49m\u001b[43mgenerate_full_text_query\u001b[49m\u001b[43m(\u001b[49m\u001b[43mentity\u001b[49m\u001b[43m)\u001b[49m\u001b[43m}\u001b[49m\u001b[43m,\u001b[49m\n\u001b[0;32m     25\u001b[0m \u001b[43m    \u001b[49m\u001b[43m)\u001b[49m\n\u001b[0;32m     26\u001b[0m     \u001b[38;5;66;03m# print(response)\u001b[39;00m\n\u001b[0;32m     27\u001b[0m     result \u001b[38;5;241m+\u001b[39m\u001b[38;5;241m=\u001b[39m \u001b[38;5;124m\"\u001b[39m\u001b[38;5;130;01m\\n\u001b[39;00m\u001b[38;5;124m\"\u001b[39m\u001b[38;5;241m.\u001b[39mjoin([el[\u001b[38;5;124m\"\u001b[39m\u001b[38;5;124moutput\u001b[39m\u001b[38;5;124m\"\u001b[39m] \u001b[38;5;28;01mfor\u001b[39;00m el \u001b[38;5;129;01min\u001b[39;00m response])\n",
      "File \u001b[1;32mc:\\Users\\Subrata Samanta\\miniconda3\\envs\\genai\\Lib\\site-packages\\langchain_neo4j\\graphs\\neo4j_graph.py:230\u001b[0m, in \u001b[0;36mNeo4jGraph.query\u001b[1;34m(self, query, params, session_params)\u001b[0m\n\u001b[0;32m    228\u001b[0m \u001b[38;5;28;01mif\u001b[39;00m \u001b[38;5;129;01mnot\u001b[39;00m session_params:\n\u001b[0;32m    229\u001b[0m     \u001b[38;5;28;01mtry\u001b[39;00m:\n\u001b[1;32m--> 230\u001b[0m         data, _, _ \u001b[38;5;241m=\u001b[39m \u001b[38;5;28;43mself\u001b[39;49m\u001b[38;5;241;43m.\u001b[39;49m\u001b[43m_driver\u001b[49m\u001b[38;5;241;43m.\u001b[39;49m\u001b[43mexecute_query\u001b[49m\u001b[43m(\u001b[49m\n\u001b[0;32m    231\u001b[0m \u001b[43m            \u001b[49m\u001b[43mQuery\u001b[49m\u001b[43m(\u001b[49m\u001b[43mtext\u001b[49m\u001b[38;5;241;43m=\u001b[39;49m\u001b[43mquery\u001b[49m\u001b[43m,\u001b[49m\u001b[43m \u001b[49m\u001b[43mtimeout\u001b[49m\u001b[38;5;241;43m=\u001b[39;49m\u001b[38;5;28;43mself\u001b[39;49m\u001b[38;5;241;43m.\u001b[39;49m\u001b[43mtimeout\u001b[49m\u001b[43m)\u001b[49m\u001b[43m,\u001b[49m\n\u001b[0;32m    232\u001b[0m \u001b[43m            \u001b[49m\u001b[43mdatabase_\u001b[49m\u001b[38;5;241;43m=\u001b[39;49m\u001b[38;5;28;43mself\u001b[39;49m\u001b[38;5;241;43m.\u001b[39;49m\u001b[43m_database\u001b[49m\u001b[43m,\u001b[49m\n\u001b[0;32m    233\u001b[0m \u001b[43m            \u001b[49m\u001b[43mparameters_\u001b[49m\u001b[38;5;241;43m=\u001b[39;49m\u001b[43mparams\u001b[49m\u001b[43m,\u001b[49m\n\u001b[0;32m    234\u001b[0m \u001b[43m        \u001b[49m\u001b[43m)\u001b[49m\n\u001b[0;32m    235\u001b[0m         json_data \u001b[38;5;241m=\u001b[39m [r\u001b[38;5;241m.\u001b[39mdata() \u001b[38;5;28;01mfor\u001b[39;00m r \u001b[38;5;129;01min\u001b[39;00m data]\n\u001b[0;32m    236\u001b[0m         \u001b[38;5;28;01mif\u001b[39;00m \u001b[38;5;28mself\u001b[39m\u001b[38;5;241m.\u001b[39msanitize:\n",
      "File \u001b[1;32mc:\\Users\\Subrata Samanta\\miniconda3\\envs\\genai\\Lib\\site-packages\\neo4j\\_sync\\driver.py:970\u001b[0m, in \u001b[0;36mDriver.execute_query\u001b[1;34m(self, query_, parameters_, routing_, database_, impersonated_user_, bookmark_manager_, auth_, result_transformer_, **kwargs)\u001b[0m\n\u001b[0;32m    966\u001b[0m     \u001b[38;5;28;01mraise\u001b[39;00m \u001b[38;5;167;01mValueError\u001b[39;00m(\n\u001b[0;32m    967\u001b[0m         \u001b[38;5;124mf\u001b[39m\u001b[38;5;124m\"\u001b[39m\u001b[38;5;124mInvalid routing control value: \u001b[39m\u001b[38;5;132;01m{\u001b[39;00mrouting_\u001b[38;5;132;01m!r}\u001b[39;00m\u001b[38;5;124m\"\u001b[39m\n\u001b[0;32m    968\u001b[0m     )\n\u001b[0;32m    969\u001b[0m \u001b[38;5;28;01mwith\u001b[39;00m session\u001b[38;5;241m.\u001b[39m_pipelined_begin:\n\u001b[1;32m--> 970\u001b[0m     \u001b[38;5;28;01mreturn\u001b[39;00m \u001b[43msession\u001b[49m\u001b[38;5;241;43m.\u001b[39;49m\u001b[43m_run_transaction\u001b[49m\u001b[43m(\u001b[49m\n\u001b[0;32m    971\u001b[0m \u001b[43m        \u001b[49m\u001b[43maccess_mode\u001b[49m\u001b[43m,\u001b[49m\n\u001b[0;32m    972\u001b[0m \u001b[43m        \u001b[49m\u001b[43mTelemetryAPI\u001b[49m\u001b[38;5;241;43m.\u001b[39;49m\u001b[43mDRIVER\u001b[49m\u001b[43m,\u001b[49m\n\u001b[0;32m    973\u001b[0m \u001b[43m        \u001b[49m\u001b[43mwork\u001b[49m\u001b[43m,\u001b[49m\n\u001b[0;32m    974\u001b[0m \u001b[43m        \u001b[49m\u001b[43m(\u001b[49m\u001b[43mquery_str\u001b[49m\u001b[43m,\u001b[49m\u001b[43m \u001b[49m\u001b[43mparameters\u001b[49m\u001b[43m,\u001b[49m\u001b[43m \u001b[49m\u001b[43mresult_transformer_\u001b[49m\u001b[43m)\u001b[49m\u001b[43m,\u001b[49m\n\u001b[0;32m    975\u001b[0m \u001b[43m        \u001b[49m\u001b[43m{\u001b[49m\u001b[43m}\u001b[49m\u001b[43m,\u001b[49m\n\u001b[0;32m    976\u001b[0m \u001b[43m    \u001b[49m\u001b[43m)\u001b[49m\n",
      "File \u001b[1;32mc:\\Users\\Subrata Samanta\\miniconda3\\envs\\genai\\Lib\\site-packages\\neo4j\\_sync\\work\\session.py:583\u001b[0m, in \u001b[0;36mSession._run_transaction\u001b[1;34m(self, access_mode, api, transaction_function, args, kwargs)\u001b[0m\n\u001b[0;32m    581\u001b[0m tx \u001b[38;5;241m=\u001b[39m \u001b[38;5;28mself\u001b[39m\u001b[38;5;241m.\u001b[39m_transaction\n\u001b[0;32m    582\u001b[0m \u001b[38;5;28;01mtry\u001b[39;00m:\n\u001b[1;32m--> 583\u001b[0m     result \u001b[38;5;241m=\u001b[39m \u001b[43mtransaction_function\u001b[49m\u001b[43m(\u001b[49m\u001b[43mtx\u001b[49m\u001b[43m,\u001b[49m\u001b[43m \u001b[49m\u001b[38;5;241;43m*\u001b[39;49m\u001b[43margs\u001b[49m\u001b[43m,\u001b[49m\u001b[43m \u001b[49m\u001b[38;5;241;43m*\u001b[39;49m\u001b[38;5;241;43m*\u001b[39;49m\u001b[43mkwargs\u001b[49m\u001b[43m)\u001b[49m\n\u001b[0;32m    584\u001b[0m \u001b[38;5;28;01mexcept\u001b[39;00m asyncio\u001b[38;5;241m.\u001b[39mCancelledError:\n\u001b[0;32m    585\u001b[0m     \u001b[38;5;66;03m# if cancellation callback has not been called yet:\u001b[39;00m\n\u001b[0;32m    586\u001b[0m     \u001b[38;5;28;01mif\u001b[39;00m \u001b[38;5;28mself\u001b[39m\u001b[38;5;241m.\u001b[39m_transaction \u001b[38;5;129;01mis\u001b[39;00m \u001b[38;5;129;01mnot\u001b[39;00m \u001b[38;5;28;01mNone\u001b[39;00m:\n",
      "File \u001b[1;32mc:\\Users\\Subrata Samanta\\miniconda3\\envs\\genai\\Lib\\site-packages\\neo4j\\_work\\query.py:144\u001b[0m, in \u001b[0;36munit_of_work.<locals>.wrapper.<locals>.wrapped\u001b[1;34m(*args, **kwargs)\u001b[0m\n\u001b[0;32m    143\u001b[0m \u001b[38;5;28;01mdef\u001b[39;00m\u001b[38;5;250m \u001b[39m\u001b[38;5;21mwrapped\u001b[39m(\u001b[38;5;241m*\u001b[39margs, \u001b[38;5;241m*\u001b[39m\u001b[38;5;241m*\u001b[39mkwargs):\n\u001b[1;32m--> 144\u001b[0m     \u001b[38;5;28;01mreturn\u001b[39;00m \u001b[43mf\u001b[49m\u001b[43m(\u001b[49m\u001b[38;5;241;43m*\u001b[39;49m\u001b[43margs\u001b[49m\u001b[43m,\u001b[49m\u001b[43m \u001b[49m\u001b[38;5;241;43m*\u001b[39;49m\u001b[38;5;241;43m*\u001b[39;49m\u001b[43mkwargs\u001b[49m\u001b[43m)\u001b[49m\n",
      "File \u001b[1;32mc:\\Users\\Subrata Samanta\\miniconda3\\envs\\genai\\Lib\\site-packages\\neo4j\\_sync\\driver.py:1307\u001b[0m, in \u001b[0;36m_work\u001b[1;34m(tx, query, parameters, transformer)\u001b[0m\n\u001b[0;32m   1300\u001b[0m \u001b[38;5;28;01mdef\u001b[39;00m\u001b[38;5;250m \u001b[39m\u001b[38;5;21m_work\u001b[39m(\n\u001b[0;32m   1301\u001b[0m     tx: ManagedTransaction,\n\u001b[0;32m   1302\u001b[0m     query: te\u001b[38;5;241m.\u001b[39mLiteralString,\n\u001b[0;32m   1303\u001b[0m     parameters: \u001b[38;5;28mdict\u001b[39m[\u001b[38;5;28mstr\u001b[39m, t\u001b[38;5;241m.\u001b[39mAny],\n\u001b[0;32m   1304\u001b[0m     transformer: t\u001b[38;5;241m.\u001b[39mCallable[[Result], t\u001b[38;5;241m.\u001b[39mUnion[_T]],\n\u001b[0;32m   1305\u001b[0m ) \u001b[38;5;241m-\u001b[39m\u001b[38;5;241m>\u001b[39m _T:\n\u001b[0;32m   1306\u001b[0m     res \u001b[38;5;241m=\u001b[39m tx\u001b[38;5;241m.\u001b[39mrun(query, parameters)\n\u001b[1;32m-> 1307\u001b[0m     \u001b[38;5;28;01mreturn\u001b[39;00m \u001b[43mtransformer\u001b[49m\u001b[43m(\u001b[49m\u001b[43mres\u001b[49m\u001b[43m)\u001b[49m\n",
      "File \u001b[1;32mc:\\Users\\Subrata Samanta\\miniconda3\\envs\\genai\\Lib\\site-packages\\neo4j\\_sync\\work\\result.py:802\u001b[0m, in \u001b[0;36mResult.to_eager_result\u001b[1;34m(self)\u001b[0m\n\u001b[0;32m    784\u001b[0m \u001b[38;5;129m@NonConcurrentMethodChecker\u001b[39m\u001b[38;5;241m.\u001b[39m_non_concurrent_method\n\u001b[0;32m    785\u001b[0m \u001b[38;5;28;01mdef\u001b[39;00m\u001b[38;5;250m \u001b[39m\u001b[38;5;21mto_eager_result\u001b[39m(\u001b[38;5;28mself\u001b[39m) \u001b[38;5;241m-\u001b[39m\u001b[38;5;241m>\u001b[39m EagerResult:\n\u001b[0;32m    786\u001b[0m \u001b[38;5;250m    \u001b[39m\u001b[38;5;124;03m\"\"\"\u001b[39;00m\n\u001b[0;32m    787\u001b[0m \u001b[38;5;124;03m    Convert this result to an :class:`.EagerResult`.\u001b[39;00m\n\u001b[0;32m    788\u001b[0m \n\u001b[1;32m   (...)\u001b[0m\n\u001b[0;32m    800\u001b[0m \u001b[38;5;124;03m    .. versionchanged:: 5.8 Stabilized from experimental.\u001b[39;00m\n\u001b[0;32m    801\u001b[0m \u001b[38;5;124;03m    \"\"\"\u001b[39;00m\n\u001b[1;32m--> 802\u001b[0m     \u001b[38;5;28;43mself\u001b[39;49m\u001b[38;5;241;43m.\u001b[39;49m\u001b[43m_buffer_all\u001b[49m\u001b[43m(\u001b[49m\u001b[43m)\u001b[49m\n\u001b[0;32m    803\u001b[0m     \u001b[38;5;28;01mreturn\u001b[39;00m EagerResult(\n\u001b[0;32m    804\u001b[0m         keys\u001b[38;5;241m=\u001b[39m\u001b[38;5;28mlist\u001b[39m(\u001b[38;5;28mself\u001b[39m\u001b[38;5;241m.\u001b[39mkeys()),\n\u001b[0;32m    805\u001b[0m         records\u001b[38;5;241m=\u001b[39mUtil\u001b[38;5;241m.\u001b[39mlist(\u001b[38;5;28mself\u001b[39m),\n\u001b[0;32m    806\u001b[0m         summary\u001b[38;5;241m=\u001b[39m\u001b[38;5;28mself\u001b[39m\u001b[38;5;241m.\u001b[39mconsume(),\n\u001b[0;32m    807\u001b[0m     )\n",
      "File \u001b[1;32mc:\\Users\\Subrata Samanta\\miniconda3\\envs\\genai\\Lib\\site-packages\\neo4j\\_sync\\work\\result.py:459\u001b[0m, in \u001b[0;36mResult._buffer_all\u001b[1;34m(self)\u001b[0m\n\u001b[0;32m    458\u001b[0m \u001b[38;5;28;01mdef\u001b[39;00m\u001b[38;5;250m \u001b[39m\u001b[38;5;21m_buffer_all\u001b[39m(\u001b[38;5;28mself\u001b[39m):\n\u001b[1;32m--> 459\u001b[0m     \u001b[38;5;28;43mself\u001b[39;49m\u001b[38;5;241;43m.\u001b[39;49m\u001b[43m_buffer\u001b[49m\u001b[43m(\u001b[49m\u001b[43m)\u001b[49m\n",
      "File \u001b[1;32mc:\\Users\\Subrata Samanta\\miniconda3\\envs\\genai\\Lib\\site-packages\\neo4j\\_sync\\work\\result.py:448\u001b[0m, in \u001b[0;36mResult._buffer\u001b[1;34m(self, n)\u001b[0m\n\u001b[0;32m    446\u001b[0m     \u001b[38;5;28;01mreturn\u001b[39;00m\n\u001b[0;32m    447\u001b[0m record_buffer \u001b[38;5;241m=\u001b[39m deque()\n\u001b[1;32m--> 448\u001b[0m \u001b[43m\u001b[49m\u001b[38;5;28;43;01mfor\u001b[39;49;00m\u001b[43m \u001b[49m\u001b[43mrecord\u001b[49m\u001b[43m \u001b[49m\u001b[38;5;129;43;01min\u001b[39;49;00m\u001b[43m \u001b[49m\u001b[38;5;28;43mself\u001b[39;49m\u001b[43m:\u001b[49m\n\u001b[0;32m    449\u001b[0m \u001b[43m    \u001b[49m\u001b[43mrecord_buffer\u001b[49m\u001b[38;5;241;43m.\u001b[39;49m\u001b[43mappend\u001b[49m\u001b[43m(\u001b[49m\u001b[43mrecord\u001b[49m\u001b[43m)\u001b[49m\n\u001b[0;32m    450\u001b[0m \u001b[43m    \u001b[49m\u001b[38;5;28;43;01mif\u001b[39;49;00m\u001b[43m \u001b[49m\u001b[43mn\u001b[49m\u001b[43m \u001b[49m\u001b[38;5;129;43;01mis\u001b[39;49;00m\u001b[43m \u001b[49m\u001b[38;5;129;43;01mnot\u001b[39;49;00m\u001b[43m \u001b[49m\u001b[38;5;28;43;01mNone\u001b[39;49;00m\u001b[43m \u001b[49m\u001b[38;5;129;43;01mand\u001b[39;49;00m\u001b[43m \u001b[49m\u001b[38;5;28;43mlen\u001b[39;49m\u001b[43m(\u001b[49m\u001b[43mrecord_buffer\u001b[49m\u001b[43m)\u001b[49m\u001b[43m \u001b[49m\u001b[38;5;241;43m>\u001b[39;49m\u001b[38;5;241;43m=\u001b[39;49m\u001b[43m \u001b[49m\u001b[43mn\u001b[49m\u001b[43m:\u001b[49m\n",
      "File \u001b[1;32mc:\\Users\\Subrata Samanta\\miniconda3\\envs\\genai\\Lib\\site-packages\\neo4j\\_sync\\work\\result.py:398\u001b[0m, in \u001b[0;36mResult.__iter__\u001b[1;34m(self)\u001b[0m\n\u001b[0;32m    396\u001b[0m     \u001b[38;5;28;01myield\u001b[39;00m \u001b[38;5;28mself\u001b[39m\u001b[38;5;241m.\u001b[39m_record_buffer\u001b[38;5;241m.\u001b[39mpopleft()\n\u001b[0;32m    397\u001b[0m \u001b[38;5;28;01melif\u001b[39;00m \u001b[38;5;28mself\u001b[39m\u001b[38;5;241m.\u001b[39m_streaming:\n\u001b[1;32m--> 398\u001b[0m     \u001b[38;5;28;43mself\u001b[39;49m\u001b[38;5;241;43m.\u001b[39;49m\u001b[43m_connection\u001b[49m\u001b[38;5;241;43m.\u001b[39;49m\u001b[43mfetch_message\u001b[49m\u001b[43m(\u001b[49m\u001b[43m)\u001b[49m\n\u001b[0;32m    399\u001b[0m \u001b[38;5;28;01melif\u001b[39;00m \u001b[38;5;28mself\u001b[39m\u001b[38;5;241m.\u001b[39m_discarding:\n\u001b[0;32m    400\u001b[0m     \u001b[38;5;28mself\u001b[39m\u001b[38;5;241m.\u001b[39m_discard()\n",
      "File \u001b[1;32mc:\\Users\\Subrata Samanta\\miniconda3\\envs\\genai\\Lib\\site-packages\\neo4j\\_sync\\io\\_common.py:184\u001b[0m, in \u001b[0;36mConnectionErrorHandler.__getattr__.<locals>.outer.<locals>.inner\u001b[1;34m(*args, **kwargs)\u001b[0m\n\u001b[0;32m    182\u001b[0m \u001b[38;5;28;01mdef\u001b[39;00m\u001b[38;5;250m \u001b[39m\u001b[38;5;21minner\u001b[39m(\u001b[38;5;241m*\u001b[39margs, \u001b[38;5;241m*\u001b[39m\u001b[38;5;241m*\u001b[39mkwargs):\n\u001b[0;32m    183\u001b[0m     \u001b[38;5;28;01mtry\u001b[39;00m:\n\u001b[1;32m--> 184\u001b[0m         \u001b[43mfunc\u001b[49m\u001b[43m(\u001b[49m\u001b[38;5;241;43m*\u001b[39;49m\u001b[43margs\u001b[49m\u001b[43m,\u001b[49m\u001b[43m \u001b[49m\u001b[38;5;241;43m*\u001b[39;49m\u001b[38;5;241;43m*\u001b[39;49m\u001b[43mkwargs\u001b[49m\u001b[43m)\u001b[49m\n\u001b[0;32m    185\u001b[0m     \u001b[38;5;28;01mexcept\u001b[39;00m (Neo4jError, ServiceUnavailable, SessionExpired) \u001b[38;5;28;01mas\u001b[39;00m exc:\n\u001b[0;32m    186\u001b[0m         \u001b[38;5;28;01massert\u001b[39;00m \u001b[38;5;129;01mnot\u001b[39;00m asyncio\u001b[38;5;241m.\u001b[39miscoroutinefunction(\u001b[38;5;28mself\u001b[39m\u001b[38;5;241m.\u001b[39m__on_error)\n",
      "File \u001b[1;32mc:\\Users\\Subrata Samanta\\miniconda3\\envs\\genai\\Lib\\site-packages\\neo4j\\_sync\\io\\_bolt.py:864\u001b[0m, in \u001b[0;36mBolt.fetch_message\u001b[1;34m(self)\u001b[0m\n\u001b[0;32m    860\u001b[0m \u001b[38;5;66;03m# Receive exactly one message\u001b[39;00m\n\u001b[0;32m    861\u001b[0m tag, fields \u001b[38;5;241m=\u001b[39m \u001b[38;5;28mself\u001b[39m\u001b[38;5;241m.\u001b[39minbox\u001b[38;5;241m.\u001b[39mpop(\n\u001b[0;32m    862\u001b[0m     hydration_hooks\u001b[38;5;241m=\u001b[39m\u001b[38;5;28mself\u001b[39m\u001b[38;5;241m.\u001b[39mresponses[\u001b[38;5;241m0\u001b[39m]\u001b[38;5;241m.\u001b[39mhydration_hooks\n\u001b[0;32m    863\u001b[0m )\n\u001b[1;32m--> 864\u001b[0m res \u001b[38;5;241m=\u001b[39m \u001b[38;5;28;43mself\u001b[39;49m\u001b[38;5;241;43m.\u001b[39;49m\u001b[43m_process_message\u001b[49m\u001b[43m(\u001b[49m\u001b[43mtag\u001b[49m\u001b[43m,\u001b[49m\u001b[43m \u001b[49m\u001b[43mfields\u001b[49m\u001b[43m)\u001b[49m\n\u001b[0;32m    865\u001b[0m \u001b[38;5;28mself\u001b[39m\u001b[38;5;241m.\u001b[39midle_since \u001b[38;5;241m=\u001b[39m monotonic()\n\u001b[0;32m    866\u001b[0m \u001b[38;5;28;01mreturn\u001b[39;00m res\n",
      "File \u001b[1;32mc:\\Users\\Subrata Samanta\\miniconda3\\envs\\genai\\Lib\\site-packages\\neo4j\\_sync\\io\\_bolt5.py:1208\u001b[0m, in \u001b[0;36mBolt5x7._process_message\u001b[1;34m(self, tag, fields)\u001b[0m\n\u001b[0;32m   1206\u001b[0m \u001b[38;5;28mself\u001b[39m\u001b[38;5;241m.\u001b[39m_enrich_error_diagnostic_record(summary_metadata)\n\u001b[0;32m   1207\u001b[0m \u001b[38;5;28;01mtry\u001b[39;00m:\n\u001b[1;32m-> 1208\u001b[0m     \u001b[43mresponse\u001b[49m\u001b[38;5;241;43m.\u001b[39;49m\u001b[43mon_failure\u001b[49m\u001b[43m(\u001b[49m\u001b[43msummary_metadata\u001b[49m\u001b[43m \u001b[49m\u001b[38;5;129;43;01mor\u001b[39;49;00m\u001b[43m \u001b[49m\u001b[43m{\u001b[49m\u001b[43m}\u001b[49m\u001b[43m)\u001b[49m\n\u001b[0;32m   1209\u001b[0m \u001b[38;5;28;01mexcept\u001b[39;00m (ServiceUnavailable, DatabaseUnavailable):\n\u001b[0;32m   1210\u001b[0m     \u001b[38;5;28;01mif\u001b[39;00m \u001b[38;5;28mself\u001b[39m\u001b[38;5;241m.\u001b[39mpool:\n",
      "File \u001b[1;32mc:\\Users\\Subrata Samanta\\miniconda3\\envs\\genai\\Lib\\site-packages\\neo4j\\_sync\\io\\_common.py:254\u001b[0m, in \u001b[0;36mResponse.on_failure\u001b[1;34m(self, metadata)\u001b[0m\n\u001b[0;32m    252\u001b[0m handler \u001b[38;5;241m=\u001b[39m \u001b[38;5;28mself\u001b[39m\u001b[38;5;241m.\u001b[39mhandlers\u001b[38;5;241m.\u001b[39mget(\u001b[38;5;124m\"\u001b[39m\u001b[38;5;124mon_summary\u001b[39m\u001b[38;5;124m\"\u001b[39m)\n\u001b[0;32m    253\u001b[0m Util\u001b[38;5;241m.\u001b[39mcallback(handler)\n\u001b[1;32m--> 254\u001b[0m \u001b[38;5;28;01mraise\u001b[39;00m \u001b[38;5;28mself\u001b[39m\u001b[38;5;241m.\u001b[39m_hydrate_error(metadata)\n",
      "\u001b[1;31mClientError\u001b[0m: {code: Neo.ClientError.Procedure.ProcedureCallFailed} {message: Failed to invoke procedure `db.index.fulltext.queryNodes`: Caused by: java.lang.IllegalArgumentException: There is no such fulltext schema index: entity}"
     ]
    }
   ],
   "source": [
    "res_hist = chain.invoke(\n",
    "    {\n",
    "        \"question\": \"tell me the growth rate of apple in 2024?\",\n",
    "        \"chat_history\": [\n",
    "\n",
    "        ],\n",
    "    }\n",
    ")\n",
    "\n",
    "print(f\"\\n === {res_hist}\\n\\n\")"
   ]
  },
  {
   "cell_type": "code",
   "execution_count": null,
   "id": "8f5ef264",
   "metadata": {},
   "outputs": [],
   "source": []
  }
 ],
 "metadata": {
  "kernelspec": {
   "display_name": "genai",
   "language": "python",
   "name": "python3"
  },
  "language_info": {
   "codemirror_mode": {
    "name": "ipython",
    "version": 3
   },
   "file_extension": ".py",
   "mimetype": "text/x-python",
   "name": "python",
   "nbconvert_exporter": "python",
   "pygments_lexer": "ipython3",
   "version": "3.11.11"
  }
 },
 "nbformat": 4,
 "nbformat_minor": 5
}
